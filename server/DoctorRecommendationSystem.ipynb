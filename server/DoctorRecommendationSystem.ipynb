{
 "cells": [
  {
   "cell_type": "code",
   "execution_count": null,
   "id": "df231bfc-d8e2-46a1-a7f9-833fcad75e97",
   "metadata": {},
   "outputs": [],
   "source": [
    "import pandas as pd"
   ]
  },
  {
   "cell_type": "code",
   "execution_count": null,
   "id": "e4c0378d-f6ec-47c2-abdf-ad9d292fdfb0",
   "metadata": {},
   "outputs": [],
   "source": [
    "doctors=pd.read_csv('./data/PakistanSurgerySpecialist.csv')\n",
    "SpecialistVsDisease=pd.read_csv('./data/Doctor_Versus_Disease.csv',encoding='latin1')"
   ]
  },
  {
   "cell_type": "code",
   "execution_count": null,
   "id": "f9926192-bf3b-49af-952a-7dc5360aac96",
   "metadata": {},
   "outputs": [],
   "source": [
    "doctors.head(100)"
   ]
  },
  {
   "cell_type": "code",
   "execution_count": null,
   "id": "20adbd84-1cb4-4c16-b7e1-2a5172cbcadf",
   "metadata": {},
   "outputs": [],
   "source": [
    "SpecialistVsDisease=SpecialistVsDisease.sort_values(by='Specialist').reset_index(drop=True)"
   ]
  },
  {
   "cell_type": "code",
   "execution_count": null,
   "id": "6e757c5f-4fbf-4eaa-8c1b-3ac2d28bd466",
   "metadata": {},
   "outputs": [],
   "source": [
    "SpecialistVsDisease"
   ]
  },
  {
   "cell_type": "code",
   "execution_count": null,
   "id": "ea8df2ec-3594-4a1e-a5bf-f246f2d7092a",
   "metadata": {},
   "outputs": [],
   "source": [
    "#  Testing\n",
    "row = SpecialistVsDisease[SpecialistVsDisease['Disease'].str.strip().str.lower() == ('malaria').lower()]\n",
    "specialist = row.iloc[0]['Specialist']\n",
    "matched_doctors = doctors[doctors['SURGERY TYPE'].str.strip().str.lower()==specialist.lower()]\n",
    "matched_doctors=matched_doctors.sort_values(by='SATISFACTION')\n",
    "matched_doctors"
   ]
  },
  {
   "cell_type": "code",
   "execution_count": null,
   "id": "2de4bace-0b64-4749-a286-31283337b286",
   "metadata": {},
   "outputs": [],
   "source": [
    "def recommend_doctor(disease_input):\n",
    "    # Standardize input (lowercase matching)\n",
    "    disease_input = disease_input.strip().lower()\n",
    "    \n",
    "    # Find specialist for the disease\n",
    "    row = SpecialistVsDisease[SpecialistVsDisease['Disease'].str.strip().str.lower() == disease_input.lower()]\n",
    "    \n",
    "    if row.empty:\n",
    "        return \"No specialist found for this disease.\"\n",
    "    \n",
    "    specialist = row.iloc[0]['Specialist']\n",
    "\n",
    "    \n",
    "    # Find all matching doctors\n",
    "    matched_doctors = doctors[doctors['SURGERY TYPE'].str.strip().str.lower()==specialist.lower()]\n",
    "    matched_doctors=matched_doctors.sort_values(by='SATISFACTION', ascending=False)\n",
    "    \n",
    "    if matched_doctors.empty:\n",
    "        return f\"No doctors found for specialist: {specialist}\"\n",
    "    \n",
    "    # Display the doctors\n",
    "    return matched_doctors[['Name', 'SURGERY TYPE', 'QUALIFICATIONS', 'RATINGS', 'SATISFACTION']]\n"
   ]
  },
  {
   "cell_type": "code",
   "execution_count": null,
   "id": "8f2d9250-5c32-433e-933e-836c34fcc2d2",
   "metadata": {},
   "outputs": [],
   "source": [
    "recommend_doctor(\"aids\")"
   ]
  },
  {
   "cell_type": "code",
   "execution_count": null,
   "id": "67d2c0d7-98ae-4c3f-9417-ea8510a18aa9",
   "metadata": {},
   "outputs": [],
   "source": [
    "doctors.rename(columns={'SURGERY TYPE': 'Specialist'}, inplace=True)\n",
    "doctors"
   ]
  },
  {
   "cell_type": "code",
   "execution_count": null,
   "id": "5d1a25e2-96be-4341-b4c1-5da1454ae4c5",
   "metadata": {},
   "outputs": [],
   "source": [
    "# Merge both dataset\n",
    "\n",
    "# mergedataset=pd.concat([doctors,SpecialistVsDisease],axis=1)\n",
    "mergedataset=pd.merge(doctors,SpecialistVsDisease,on='Specialist')"
   ]
  },
  {
   "cell_type": "code",
   "execution_count": null,
   "id": "db322be5-42e7-4f43-8255-8231a788205a",
   "metadata": {},
   "outputs": [],
   "source": [
    "mergedataset"
   ]
  },
  {
   "cell_type": "code",
   "execution_count": null,
   "id": "0da5baa4-3386-447d-a71e-d6f08fb96390",
   "metadata": {},
   "outputs": [],
   "source": [
    "mergedataset.to_csv('Doctor_Vs_Disease_Vs_Specialist.csv',index=False)"
   ]
  },
  {
   "cell_type": "code",
   "execution_count": null,
   "id": "e8c2ec2f-1b89-4009-a022-83c18987cd91",
   "metadata": {},
   "outputs": [],
   "source": [
    "pd.read_csv('Doctor_Vs_Disease_Vs_Specialist.csv')"
   ]
  },
  {
   "cell_type": "code",
   "execution_count": null,
   "id": "1e2bb98b-8ce3-4af1-9c00-98c958010c41",
   "metadata": {},
   "outputs": [],
   "source": [
    "import pickle"
   ]
  },
  {
   "cell_type": "code",
   "execution_count": null,
   "id": "0866ef62-6703-467f-a56c-446645102f1d",
   "metadata": {},
   "outputs": [],
   "source": [
    "#saving model\n",
    "mergedataset.to_pickle('./models/DoctorAssign_model.pkl')"
   ]
  },
  {
   "cell_type": "code",
   "execution_count": null,
   "id": "9a3078d5-ffa8-4ccb-a795-c6d1694ce74e",
   "metadata": {},
   "outputs": [],
   "source": [
    "# Load the pickled DataFrame\n",
    "mergedataset_loaded = pd.read_pickle('./models/DoctorAssign_model.pkl')\n",
    "\n",
    "# Verify the content\n",
    "print(mergedataset_loaded.head())"
   ]
  },
  {
   "cell_type": "code",
   "execution_count": null,
   "id": "18833386-1c68-4b51-9772-1e88b7eaca9a",
   "metadata": {},
   "outputs": [],
   "source": [
    "def recommend_doctor1(disease_input):\n",
    "    # Standardize input (lowercase matching)\n",
    "    disease_input = disease_input.strip().lower()\n",
    "    \n",
    "    # Find specialist for the disease\n",
    "    row = mergedataset_loaded[mergedataset_loaded['Disease'].str.strip().str.lower() == disease_input.lower()]\n",
    "    \n",
    "    if row.empty:\n",
    "        return \"No specialist found for this disease.\"\n",
    "    \n",
    "    specialist = row.iloc[0]['Specialist']\n",
    "\n",
    "    \n",
    "    # Find all matching doctors\n",
    "    matched_doctors = mergedataset_loaded[mergedataset_loaded['Specialist'].str.strip().str.lower()==specialist.lower()]\n",
    "    matched_doctors=matched_doctors.sort_values(by='SATISFACTION', ascending=False)\n",
    "    \n",
    "    if matched_doctors.empty:\n",
    "        return f\"No doctors found for specialist: {specialist}\"\n",
    "    \n",
    "    # Display the doctors\n",
    "    return matched_doctors[['Name', 'Specialist', 'QUALIFICATIONS', 'SATISFACTION']]"
   ]
  },
  {
   "cell_type": "code",
   "execution_count": null,
   "id": "77ffcf34-2b10-45b2-b800-bf5990aaa3da",
   "metadata": {},
   "outputs": [],
   "source": [
    "recommend_doctor1(\"aids\")"
   ]
  },
  {
   "cell_type": "code",
   "execution_count": null,
   "id": "2bc83c05-2411-4c8d-8834-af66ed2cbab9",
   "metadata": {},
   "outputs": [],
   "source": []
  }
 ],
 "metadata": {
  "kernelspec": {
   "display_name": "Python 3 (ipykernel)",
   "language": "python",
   "name": "python3"
  },
  "language_info": {
   "codemirror_mode": {
    "name": "ipython",
    "version": 3
   },
   "file_extension": ".py",
   "mimetype": "text/x-python",
   "name": "python",
   "nbconvert_exporter": "python",
   "pygments_lexer": "ipython3",
   "version": "3.12.7"
  }
 },
 "nbformat": 4,
 "nbformat_minor": 5
}
