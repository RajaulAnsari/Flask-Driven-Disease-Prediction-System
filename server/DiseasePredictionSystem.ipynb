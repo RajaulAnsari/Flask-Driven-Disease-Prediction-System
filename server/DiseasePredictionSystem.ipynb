{
 "cells": [
  {
   "cell_type": "markdown",
   "id": "cdbb6f02-4b9a-4272-8ec3-7bfcfc64a6f4",
   "metadata": {},
   "source": [
    "# Importing necessary libraries"
   ]
  },
  {
   "cell_type": "code",
   "execution_count": 1,
   "id": "328c1040-f838-46da-a0ca-f6f3813ebd87",
   "metadata": {},
   "outputs": [],
   "source": [
    "import pandas as pd"
   ]
  },
  {
   "cell_type": "markdown",
   "id": "a6e52135-dcf4-4158-bfb1-f0b4e6a30b16",
   "metadata": {},
   "source": [
    "# load the dataset"
   ]
  },
  {
   "cell_type": "code",
   "execution_count": 2,
   "id": "09bdd981-aaf1-4c19-a5d1-bb2e4ec01b2b",
   "metadata": {},
   "outputs": [],
   "source": [
    "train_dataset=pd.read_csv(\"data/Train.csv\")"
   ]
  },
  {
   "cell_type": "code",
   "execution_count": 3,
   "id": "e796463a-fb94-4deb-9139-906250648403",
   "metadata": {
    "scrolled": true
   },
   "outputs": [
    {
     "data": {
      "text/html": [
       "<div>\n",
       "<style scoped>\n",
       "    .dataframe tbody tr th:only-of-type {\n",
       "        vertical-align: middle;\n",
       "    }\n",
       "\n",
       "    .dataframe tbody tr th {\n",
       "        vertical-align: top;\n",
       "    }\n",
       "\n",
       "    .dataframe thead th {\n",
       "        text-align: right;\n",
       "    }\n",
       "</style>\n",
       "<table border=\"1\" class=\"dataframe\">\n",
       "  <thead>\n",
       "    <tr style=\"text-align: right;\">\n",
       "      <th></th>\n",
       "      <th>itching</th>\n",
       "      <th>skin_rash</th>\n",
       "      <th>nodal_skin_eruptions</th>\n",
       "      <th>continuous_sneezing</th>\n",
       "      <th>shivering</th>\n",
       "      <th>chills</th>\n",
       "      <th>joint_pain</th>\n",
       "      <th>stomach_pain</th>\n",
       "      <th>acidity</th>\n",
       "      <th>ulcers_on_tongue</th>\n",
       "      <th>...</th>\n",
       "      <th>blackheads</th>\n",
       "      <th>scurring</th>\n",
       "      <th>skin_peeling</th>\n",
       "      <th>silver_like_dusting</th>\n",
       "      <th>small_dents_in_nails</th>\n",
       "      <th>inflammatory_nails</th>\n",
       "      <th>blister</th>\n",
       "      <th>red_sore_around_nose</th>\n",
       "      <th>yellow_crust_ooze</th>\n",
       "      <th>prognosis</th>\n",
       "    </tr>\n",
       "  </thead>\n",
       "  <tbody>\n",
       "    <tr>\n",
       "      <th>0</th>\n",
       "      <td>1</td>\n",
       "      <td>1</td>\n",
       "      <td>1</td>\n",
       "      <td>0</td>\n",
       "      <td>0</td>\n",
       "      <td>0</td>\n",
       "      <td>0</td>\n",
       "      <td>0</td>\n",
       "      <td>0</td>\n",
       "      <td>0</td>\n",
       "      <td>...</td>\n",
       "      <td>0</td>\n",
       "      <td>0</td>\n",
       "      <td>0</td>\n",
       "      <td>0</td>\n",
       "      <td>0</td>\n",
       "      <td>0</td>\n",
       "      <td>0</td>\n",
       "      <td>0</td>\n",
       "      <td>0</td>\n",
       "      <td>Fungal infection</td>\n",
       "    </tr>\n",
       "    <tr>\n",
       "      <th>1</th>\n",
       "      <td>0</td>\n",
       "      <td>1</td>\n",
       "      <td>1</td>\n",
       "      <td>0</td>\n",
       "      <td>0</td>\n",
       "      <td>0</td>\n",
       "      <td>0</td>\n",
       "      <td>0</td>\n",
       "      <td>0</td>\n",
       "      <td>0</td>\n",
       "      <td>...</td>\n",
       "      <td>0</td>\n",
       "      <td>0</td>\n",
       "      <td>0</td>\n",
       "      <td>0</td>\n",
       "      <td>0</td>\n",
       "      <td>0</td>\n",
       "      <td>0</td>\n",
       "      <td>0</td>\n",
       "      <td>0</td>\n",
       "      <td>Fungal infection</td>\n",
       "    </tr>\n",
       "    <tr>\n",
       "      <th>2</th>\n",
       "      <td>1</td>\n",
       "      <td>0</td>\n",
       "      <td>1</td>\n",
       "      <td>0</td>\n",
       "      <td>0</td>\n",
       "      <td>0</td>\n",
       "      <td>0</td>\n",
       "      <td>0</td>\n",
       "      <td>0</td>\n",
       "      <td>0</td>\n",
       "      <td>...</td>\n",
       "      <td>0</td>\n",
       "      <td>0</td>\n",
       "      <td>0</td>\n",
       "      <td>0</td>\n",
       "      <td>0</td>\n",
       "      <td>0</td>\n",
       "      <td>0</td>\n",
       "      <td>0</td>\n",
       "      <td>0</td>\n",
       "      <td>Fungal infection</td>\n",
       "    </tr>\n",
       "    <tr>\n",
       "      <th>3</th>\n",
       "      <td>1</td>\n",
       "      <td>1</td>\n",
       "      <td>0</td>\n",
       "      <td>0</td>\n",
       "      <td>0</td>\n",
       "      <td>0</td>\n",
       "      <td>0</td>\n",
       "      <td>0</td>\n",
       "      <td>0</td>\n",
       "      <td>0</td>\n",
       "      <td>...</td>\n",
       "      <td>0</td>\n",
       "      <td>0</td>\n",
       "      <td>0</td>\n",
       "      <td>0</td>\n",
       "      <td>0</td>\n",
       "      <td>0</td>\n",
       "      <td>0</td>\n",
       "      <td>0</td>\n",
       "      <td>0</td>\n",
       "      <td>Fungal infection</td>\n",
       "    </tr>\n",
       "    <tr>\n",
       "      <th>4</th>\n",
       "      <td>1</td>\n",
       "      <td>1</td>\n",
       "      <td>1</td>\n",
       "      <td>0</td>\n",
       "      <td>0</td>\n",
       "      <td>0</td>\n",
       "      <td>0</td>\n",
       "      <td>0</td>\n",
       "      <td>0</td>\n",
       "      <td>0</td>\n",
       "      <td>...</td>\n",
       "      <td>0</td>\n",
       "      <td>0</td>\n",
       "      <td>0</td>\n",
       "      <td>0</td>\n",
       "      <td>0</td>\n",
       "      <td>0</td>\n",
       "      <td>0</td>\n",
       "      <td>0</td>\n",
       "      <td>0</td>\n",
       "      <td>Fungal infection</td>\n",
       "    </tr>\n",
       "  </tbody>\n",
       "</table>\n",
       "<p>5 rows × 133 columns</p>\n",
       "</div>"
      ],
      "text/plain": [
       "   itching  skin_rash  nodal_skin_eruptions  continuous_sneezing  shivering  \\\n",
       "0        1          1                     1                    0          0   \n",
       "1        0          1                     1                    0          0   \n",
       "2        1          0                     1                    0          0   \n",
       "3        1          1                     0                    0          0   \n",
       "4        1          1                     1                    0          0   \n",
       "\n",
       "   chills  joint_pain  stomach_pain  acidity  ulcers_on_tongue  ...  \\\n",
       "0       0           0             0        0                 0  ...   \n",
       "1       0           0             0        0                 0  ...   \n",
       "2       0           0             0        0                 0  ...   \n",
       "3       0           0             0        0                 0  ...   \n",
       "4       0           0             0        0                 0  ...   \n",
       "\n",
       "   blackheads  scurring  skin_peeling  silver_like_dusting  \\\n",
       "0           0         0             0                    0   \n",
       "1           0         0             0                    0   \n",
       "2           0         0             0                    0   \n",
       "3           0         0             0                    0   \n",
       "4           0         0             0                    0   \n",
       "\n",
       "   small_dents_in_nails  inflammatory_nails  blister  red_sore_around_nose  \\\n",
       "0                     0                   0        0                     0   \n",
       "1                     0                   0        0                     0   \n",
       "2                     0                   0        0                     0   \n",
       "3                     0                   0        0                     0   \n",
       "4                     0                   0        0                     0   \n",
       "\n",
       "   yellow_crust_ooze         prognosis  \n",
       "0                  0  Fungal infection  \n",
       "1                  0  Fungal infection  \n",
       "2                  0  Fungal infection  \n",
       "3                  0  Fungal infection  \n",
       "4                  0  Fungal infection  \n",
       "\n",
       "[5 rows x 133 columns]"
      ]
     },
     "execution_count": 3,
     "metadata": {},
     "output_type": "execute_result"
    }
   ],
   "source": [
    "train_dataset.head()"
   ]
  },
  {
   "cell_type": "code",
   "execution_count": 4,
   "id": "8cd679e2-3d6f-4d46-9035-7563b58c3171",
   "metadata": {},
   "outputs": [
    {
     "data": {
      "text/plain": [
       "(4920, 133)"
      ]
     },
     "execution_count": 4,
     "metadata": {},
     "output_type": "execute_result"
    }
   ],
   "source": [
    "train_dataset.shape"
   ]
  },
  {
   "cell_type": "code",
   "execution_count": 5,
   "id": "3fd2336b-bc4d-41f6-a099-176e56516afc",
   "metadata": {},
   "outputs": [
    {
     "data": {
      "text/plain": [
       "0                              Fungal infection\n",
       "1                              Fungal infection\n",
       "2                              Fungal infection\n",
       "3                              Fungal infection\n",
       "4                              Fungal infection\n",
       "                         ...                   \n",
       "4915    (vertigo) Paroymsal  Positional Vertigo\n",
       "4916                                       Acne\n",
       "4917                    Urinary tract infection\n",
       "4918                                  Psoriasis\n",
       "4919                                   Impetigo\n",
       "Name: prognosis, Length: 4920, dtype: object"
      ]
     },
     "execution_count": 5,
     "metadata": {},
     "output_type": "execute_result"
    }
   ],
   "source": [
    "train_dataset['prognosis']"
   ]
  },
  {
   "cell_type": "code",
   "execution_count": 6,
   "id": "430682bd-7f64-4aaa-b1b8-3636172d9160",
   "metadata": {},
   "outputs": [
    {
     "data": {
      "text/plain": [
       "4920"
      ]
     },
     "execution_count": 6,
     "metadata": {},
     "output_type": "execute_result"
    }
   ],
   "source": [
    "len(train_dataset['prognosis'])"
   ]
  },
  {
   "cell_type": "code",
   "execution_count": 7,
   "id": "99fe4ae2-d5f4-43d9-b5b1-ee542d47c164",
   "metadata": {
    "scrolled": true
   },
   "outputs": [
    {
     "data": {
      "text/plain": [
       "array(['Fungal infection', 'Allergy', 'GERD', 'Chronic cholestasis',\n",
       "       'Drug Reaction', 'Peptic ulcer diseae', 'AIDS', 'Diabetes ',\n",
       "       'Gastroenteritis', 'Bronchial Asthma', 'Hypertension ', 'Migraine',\n",
       "       'Cervical spondylosis', 'Paralysis (brain hemorrhage)', 'Jaundice',\n",
       "       'Malaria', 'Chicken pox', 'Dengue', 'Typhoid', 'hepatitis A',\n",
       "       'Hepatitis B', 'Hepatitis C', 'Hepatitis D', 'Hepatitis E',\n",
       "       'Alcoholic hepatitis', 'Tuberculosis', 'Common Cold', 'Pneumonia',\n",
       "       'Dimorphic hemmorhoids(piles)', 'Heart attack', 'Varicose veins',\n",
       "       'Hypothyroidism', 'Hyperthyroidism', 'Hypoglycemia',\n",
       "       'Osteoarthristis', 'Arthritis',\n",
       "       '(vertigo) Paroymsal  Positional Vertigo', 'Acne',\n",
       "       'Urinary tract infection', 'Psoriasis', 'Impetigo'], dtype=object)"
      ]
     },
     "execution_count": 7,
     "metadata": {},
     "output_type": "execute_result"
    }
   ],
   "source": [
    "train_dataset['prognosis'].unique()"
   ]
  },
  {
   "cell_type": "code",
   "execution_count": 8,
   "id": "43c8c636-9109-4857-9609-ded8e9d4c021",
   "metadata": {},
   "outputs": [
    {
     "data": {
      "text/plain": [
       "41"
      ]
     },
     "execution_count": 8,
     "metadata": {},
     "output_type": "execute_result"
    }
   ],
   "source": [
    "len(train_dataset['prognosis'].unique())"
   ]
  },
  {
   "cell_type": "code",
   "execution_count": 9,
   "id": "8173f37e-6e5d-4532-8c23-7a1977c379ce",
   "metadata": {},
   "outputs": [],
   "source": [
    "from sklearn.model_selection import train_test_split\n",
    "from sklearn.preprocessing import LabelEncoder"
   ]
  },
  {
   "cell_type": "code",
   "execution_count": 10,
   "id": "9312eccb-54f7-48bc-8672-ee114cc83c87",
   "metadata": {},
   "outputs": [],
   "source": [
    "x= train_dataset.drop('prognosis',axis=1)\n",
    "y=train_dataset['prognosis']"
   ]
  },
  {
   "cell_type": "code",
   "execution_count": 11,
   "id": "7e90737e-be0e-4579-a9af-c79f677c4b93",
   "metadata": {},
   "outputs": [],
   "source": [
    "label_encoder=LabelEncoder()\n",
    "label_encoder.fit(y)\n",
    "y=label_encoder.transform(y)"
   ]
  },
  {
   "cell_type": "code",
   "execution_count": 12,
   "id": "e83df6dc-e74f-4f14-b157-fab48ae2b9ce",
   "metadata": {},
   "outputs": [
    {
     "data": {
      "text/plain": [
       "array([15, 15, 15, ..., 38, 35, 27])"
      ]
     },
     "execution_count": 12,
     "metadata": {},
     "output_type": "execute_result"
    }
   ],
   "source": [
    "y"
   ]
  },
  {
   "cell_type": "code",
   "execution_count": 13,
   "id": "9ba9a4a6-38f8-4d19-bb65-dd3964e1aea6",
   "metadata": {
    "scrolled": true
   },
   "outputs": [
    {
     "data": {
      "text/html": [
       "<div>\n",
       "<style scoped>\n",
       "    .dataframe tbody tr th:only-of-type {\n",
       "        vertical-align: middle;\n",
       "    }\n",
       "\n",
       "    .dataframe tbody tr th {\n",
       "        vertical-align: top;\n",
       "    }\n",
       "\n",
       "    .dataframe thead th {\n",
       "        text-align: right;\n",
       "    }\n",
       "</style>\n",
       "<table border=\"1\" class=\"dataframe\">\n",
       "  <thead>\n",
       "    <tr style=\"text-align: right;\">\n",
       "      <th></th>\n",
       "      <th>itching</th>\n",
       "      <th>skin_rash</th>\n",
       "      <th>nodal_skin_eruptions</th>\n",
       "      <th>continuous_sneezing</th>\n",
       "      <th>shivering</th>\n",
       "      <th>chills</th>\n",
       "      <th>joint_pain</th>\n",
       "      <th>stomach_pain</th>\n",
       "      <th>acidity</th>\n",
       "      <th>ulcers_on_tongue</th>\n",
       "      <th>...</th>\n",
       "      <th>pus_filled_pimples</th>\n",
       "      <th>blackheads</th>\n",
       "      <th>scurring</th>\n",
       "      <th>skin_peeling</th>\n",
       "      <th>silver_like_dusting</th>\n",
       "      <th>small_dents_in_nails</th>\n",
       "      <th>inflammatory_nails</th>\n",
       "      <th>blister</th>\n",
       "      <th>red_sore_around_nose</th>\n",
       "      <th>yellow_crust_ooze</th>\n",
       "    </tr>\n",
       "  </thead>\n",
       "  <tbody>\n",
       "    <tr>\n",
       "      <th>0</th>\n",
       "      <td>1</td>\n",
       "      <td>1</td>\n",
       "      <td>1</td>\n",
       "      <td>0</td>\n",
       "      <td>0</td>\n",
       "      <td>0</td>\n",
       "      <td>0</td>\n",
       "      <td>0</td>\n",
       "      <td>0</td>\n",
       "      <td>0</td>\n",
       "      <td>...</td>\n",
       "      <td>0</td>\n",
       "      <td>0</td>\n",
       "      <td>0</td>\n",
       "      <td>0</td>\n",
       "      <td>0</td>\n",
       "      <td>0</td>\n",
       "      <td>0</td>\n",
       "      <td>0</td>\n",
       "      <td>0</td>\n",
       "      <td>0</td>\n",
       "    </tr>\n",
       "    <tr>\n",
       "      <th>1</th>\n",
       "      <td>0</td>\n",
       "      <td>1</td>\n",
       "      <td>1</td>\n",
       "      <td>0</td>\n",
       "      <td>0</td>\n",
       "      <td>0</td>\n",
       "      <td>0</td>\n",
       "      <td>0</td>\n",
       "      <td>0</td>\n",
       "      <td>0</td>\n",
       "      <td>...</td>\n",
       "      <td>0</td>\n",
       "      <td>0</td>\n",
       "      <td>0</td>\n",
       "      <td>0</td>\n",
       "      <td>0</td>\n",
       "      <td>0</td>\n",
       "      <td>0</td>\n",
       "      <td>0</td>\n",
       "      <td>0</td>\n",
       "      <td>0</td>\n",
       "    </tr>\n",
       "    <tr>\n",
       "      <th>2</th>\n",
       "      <td>1</td>\n",
       "      <td>0</td>\n",
       "      <td>1</td>\n",
       "      <td>0</td>\n",
       "      <td>0</td>\n",
       "      <td>0</td>\n",
       "      <td>0</td>\n",
       "      <td>0</td>\n",
       "      <td>0</td>\n",
       "      <td>0</td>\n",
       "      <td>...</td>\n",
       "      <td>0</td>\n",
       "      <td>0</td>\n",
       "      <td>0</td>\n",
       "      <td>0</td>\n",
       "      <td>0</td>\n",
       "      <td>0</td>\n",
       "      <td>0</td>\n",
       "      <td>0</td>\n",
       "      <td>0</td>\n",
       "      <td>0</td>\n",
       "    </tr>\n",
       "    <tr>\n",
       "      <th>3</th>\n",
       "      <td>1</td>\n",
       "      <td>1</td>\n",
       "      <td>0</td>\n",
       "      <td>0</td>\n",
       "      <td>0</td>\n",
       "      <td>0</td>\n",
       "      <td>0</td>\n",
       "      <td>0</td>\n",
       "      <td>0</td>\n",
       "      <td>0</td>\n",
       "      <td>...</td>\n",
       "      <td>0</td>\n",
       "      <td>0</td>\n",
       "      <td>0</td>\n",
       "      <td>0</td>\n",
       "      <td>0</td>\n",
       "      <td>0</td>\n",
       "      <td>0</td>\n",
       "      <td>0</td>\n",
       "      <td>0</td>\n",
       "      <td>0</td>\n",
       "    </tr>\n",
       "    <tr>\n",
       "      <th>4</th>\n",
       "      <td>1</td>\n",
       "      <td>1</td>\n",
       "      <td>1</td>\n",
       "      <td>0</td>\n",
       "      <td>0</td>\n",
       "      <td>0</td>\n",
       "      <td>0</td>\n",
       "      <td>0</td>\n",
       "      <td>0</td>\n",
       "      <td>0</td>\n",
       "      <td>...</td>\n",
       "      <td>0</td>\n",
       "      <td>0</td>\n",
       "      <td>0</td>\n",
       "      <td>0</td>\n",
       "      <td>0</td>\n",
       "      <td>0</td>\n",
       "      <td>0</td>\n",
       "      <td>0</td>\n",
       "      <td>0</td>\n",
       "      <td>0</td>\n",
       "    </tr>\n",
       "    <tr>\n",
       "      <th>...</th>\n",
       "      <td>...</td>\n",
       "      <td>...</td>\n",
       "      <td>...</td>\n",
       "      <td>...</td>\n",
       "      <td>...</td>\n",
       "      <td>...</td>\n",
       "      <td>...</td>\n",
       "      <td>...</td>\n",
       "      <td>...</td>\n",
       "      <td>...</td>\n",
       "      <td>...</td>\n",
       "      <td>...</td>\n",
       "      <td>...</td>\n",
       "      <td>...</td>\n",
       "      <td>...</td>\n",
       "      <td>...</td>\n",
       "      <td>...</td>\n",
       "      <td>...</td>\n",
       "      <td>...</td>\n",
       "      <td>...</td>\n",
       "      <td>...</td>\n",
       "    </tr>\n",
       "    <tr>\n",
       "      <th>4915</th>\n",
       "      <td>0</td>\n",
       "      <td>0</td>\n",
       "      <td>0</td>\n",
       "      <td>0</td>\n",
       "      <td>0</td>\n",
       "      <td>0</td>\n",
       "      <td>0</td>\n",
       "      <td>0</td>\n",
       "      <td>0</td>\n",
       "      <td>0</td>\n",
       "      <td>...</td>\n",
       "      <td>0</td>\n",
       "      <td>0</td>\n",
       "      <td>0</td>\n",
       "      <td>0</td>\n",
       "      <td>0</td>\n",
       "      <td>0</td>\n",
       "      <td>0</td>\n",
       "      <td>0</td>\n",
       "      <td>0</td>\n",
       "      <td>0</td>\n",
       "    </tr>\n",
       "    <tr>\n",
       "      <th>4916</th>\n",
       "      <td>0</td>\n",
       "      <td>1</td>\n",
       "      <td>0</td>\n",
       "      <td>0</td>\n",
       "      <td>0</td>\n",
       "      <td>0</td>\n",
       "      <td>0</td>\n",
       "      <td>0</td>\n",
       "      <td>0</td>\n",
       "      <td>0</td>\n",
       "      <td>...</td>\n",
       "      <td>1</td>\n",
       "      <td>1</td>\n",
       "      <td>1</td>\n",
       "      <td>0</td>\n",
       "      <td>0</td>\n",
       "      <td>0</td>\n",
       "      <td>0</td>\n",
       "      <td>0</td>\n",
       "      <td>0</td>\n",
       "      <td>0</td>\n",
       "    </tr>\n",
       "    <tr>\n",
       "      <th>4917</th>\n",
       "      <td>0</td>\n",
       "      <td>0</td>\n",
       "      <td>0</td>\n",
       "      <td>0</td>\n",
       "      <td>0</td>\n",
       "      <td>0</td>\n",
       "      <td>0</td>\n",
       "      <td>0</td>\n",
       "      <td>0</td>\n",
       "      <td>0</td>\n",
       "      <td>...</td>\n",
       "      <td>0</td>\n",
       "      <td>0</td>\n",
       "      <td>0</td>\n",
       "      <td>0</td>\n",
       "      <td>0</td>\n",
       "      <td>0</td>\n",
       "      <td>0</td>\n",
       "      <td>0</td>\n",
       "      <td>0</td>\n",
       "      <td>0</td>\n",
       "    </tr>\n",
       "    <tr>\n",
       "      <th>4918</th>\n",
       "      <td>0</td>\n",
       "      <td>1</td>\n",
       "      <td>0</td>\n",
       "      <td>0</td>\n",
       "      <td>0</td>\n",
       "      <td>0</td>\n",
       "      <td>1</td>\n",
       "      <td>0</td>\n",
       "      <td>0</td>\n",
       "      <td>0</td>\n",
       "      <td>...</td>\n",
       "      <td>0</td>\n",
       "      <td>0</td>\n",
       "      <td>0</td>\n",
       "      <td>1</td>\n",
       "      <td>1</td>\n",
       "      <td>1</td>\n",
       "      <td>1</td>\n",
       "      <td>0</td>\n",
       "      <td>0</td>\n",
       "      <td>0</td>\n",
       "    </tr>\n",
       "    <tr>\n",
       "      <th>4919</th>\n",
       "      <td>0</td>\n",
       "      <td>1</td>\n",
       "      <td>0</td>\n",
       "      <td>0</td>\n",
       "      <td>0</td>\n",
       "      <td>0</td>\n",
       "      <td>0</td>\n",
       "      <td>0</td>\n",
       "      <td>0</td>\n",
       "      <td>0</td>\n",
       "      <td>...</td>\n",
       "      <td>0</td>\n",
       "      <td>0</td>\n",
       "      <td>0</td>\n",
       "      <td>0</td>\n",
       "      <td>0</td>\n",
       "      <td>0</td>\n",
       "      <td>0</td>\n",
       "      <td>1</td>\n",
       "      <td>1</td>\n",
       "      <td>1</td>\n",
       "    </tr>\n",
       "  </tbody>\n",
       "</table>\n",
       "<p>4920 rows × 132 columns</p>\n",
       "</div>"
      ],
      "text/plain": [
       "      itching  skin_rash  nodal_skin_eruptions  continuous_sneezing  \\\n",
       "0           1          1                     1                    0   \n",
       "1           0          1                     1                    0   \n",
       "2           1          0                     1                    0   \n",
       "3           1          1                     0                    0   \n",
       "4           1          1                     1                    0   \n",
       "...       ...        ...                   ...                  ...   \n",
       "4915        0          0                     0                    0   \n",
       "4916        0          1                     0                    0   \n",
       "4917        0          0                     0                    0   \n",
       "4918        0          1                     0                    0   \n",
       "4919        0          1                     0                    0   \n",
       "\n",
       "      shivering  chills  joint_pain  stomach_pain  acidity  ulcers_on_tongue  \\\n",
       "0             0       0           0             0        0                 0   \n",
       "1             0       0           0             0        0                 0   \n",
       "2             0       0           0             0        0                 0   \n",
       "3             0       0           0             0        0                 0   \n",
       "4             0       0           0             0        0                 0   \n",
       "...         ...     ...         ...           ...      ...               ...   \n",
       "4915          0       0           0             0        0                 0   \n",
       "4916          0       0           0             0        0                 0   \n",
       "4917          0       0           0             0        0                 0   \n",
       "4918          0       0           1             0        0                 0   \n",
       "4919          0       0           0             0        0                 0   \n",
       "\n",
       "      ...  pus_filled_pimples  blackheads  scurring  skin_peeling  \\\n",
       "0     ...                   0           0         0             0   \n",
       "1     ...                   0           0         0             0   \n",
       "2     ...                   0           0         0             0   \n",
       "3     ...                   0           0         0             0   \n",
       "4     ...                   0           0         0             0   \n",
       "...   ...                 ...         ...       ...           ...   \n",
       "4915  ...                   0           0         0             0   \n",
       "4916  ...                   1           1         1             0   \n",
       "4917  ...                   0           0         0             0   \n",
       "4918  ...                   0           0         0             1   \n",
       "4919  ...                   0           0         0             0   \n",
       "\n",
       "      silver_like_dusting  small_dents_in_nails  inflammatory_nails  blister  \\\n",
       "0                       0                     0                   0        0   \n",
       "1                       0                     0                   0        0   \n",
       "2                       0                     0                   0        0   \n",
       "3                       0                     0                   0        0   \n",
       "4                       0                     0                   0        0   \n",
       "...                   ...                   ...                 ...      ...   \n",
       "4915                    0                     0                   0        0   \n",
       "4916                    0                     0                   0        0   \n",
       "4917                    0                     0                   0        0   \n",
       "4918                    1                     1                   1        0   \n",
       "4919                    0                     0                   0        1   \n",
       "\n",
       "      red_sore_around_nose  yellow_crust_ooze  \n",
       "0                        0                  0  \n",
       "1                        0                  0  \n",
       "2                        0                  0  \n",
       "3                        0                  0  \n",
       "4                        0                  0  \n",
       "...                    ...                ...  \n",
       "4915                     0                  0  \n",
       "4916                     0                  0  \n",
       "4917                     0                  0  \n",
       "4918                     0                  0  \n",
       "4919                     1                  1  \n",
       "\n",
       "[4920 rows x 132 columns]"
      ]
     },
     "execution_count": 13,
     "metadata": {},
     "output_type": "execute_result"
    }
   ],
   "source": [
    "x"
   ]
  },
  {
   "cell_type": "code",
   "execution_count": 14,
   "id": "19d5487f-75e4-41d3-b16f-151320a90312",
   "metadata": {},
   "outputs": [],
   "source": [
    "x_train,x_test,y_train,y_test=train_test_split(x,y,test_size=0.3,random_state=20)"
   ]
  },
  {
   "cell_type": "code",
   "execution_count": 15,
   "id": "23358711-0986-446f-b24e-27532b851306",
   "metadata": {},
   "outputs": [
    {
     "data": {
      "text/plain": [
       "((3444, 132), (1476, 132), (3444,), (1476,))"
      ]
     },
     "execution_count": 15,
     "metadata": {},
     "output_type": "execute_result"
    }
   ],
   "source": [
    "x_train.shape,x_test.shape,y_train.shape,y_test.shape"
   ]
  },
  {
   "cell_type": "markdown",
   "id": "18f66587-dd2a-4467-998b-c7d858ad36e0",
   "metadata": {},
   "source": [
    "### Train top models"
   ]
  },
  {
   "cell_type": "code",
   "execution_count": 16,
   "id": "39ca4ad9-5471-4cbc-8737-8b02c6b31038",
   "metadata": {
    "scrolled": true
   },
   "outputs": [
    {
     "name": "stdout",
     "output_type": "stream",
     "text": [
      "SVC accuracy : 1.0\n",
      "SVC ConfusionMatrix:\n",
      "[[40,  0,  0, ...,  0,  0,  0],\n",
      " [ 0, 43,  0, ...,  0,  0,  0],\n",
      " [ 0,  0, 28, ...,  0,  0,  0],\n",
      " ...,\n",
      " [ 0,  0,  0, ..., 34,  0,  0],\n",
      " [ 0,  0,  0, ...,  0, 41,  0],\n",
      " [ 0,  0,  0, ...,  0,  0, 31]]\n",
      "RandomForest accuracy : 1.0\n",
      "RandomForest ConfusionMatrix:\n",
      "[[40,  0,  0, ...,  0,  0,  0],\n",
      " [ 0, 43,  0, ...,  0,  0,  0],\n",
      " [ 0,  0, 28, ...,  0,  0,  0],\n",
      " ...,\n",
      " [ 0,  0,  0, ..., 34,  0,  0],\n",
      " [ 0,  0,  0, ...,  0, 41,  0],\n",
      " [ 0,  0,  0, ...,  0,  0, 31]]\n",
      "GradientBoosting accuracy : 1.0\n",
      "GradientBoosting ConfusionMatrix:\n",
      "[[40,  0,  0, ...,  0,  0,  0],\n",
      " [ 0, 43,  0, ...,  0,  0,  0],\n",
      " [ 0,  0, 28, ...,  0,  0,  0],\n",
      " ...,\n",
      " [ 0,  0,  0, ..., 34,  0,  0],\n",
      " [ 0,  0,  0, ...,  0, 41,  0],\n",
      " [ 0,  0,  0, ...,  0,  0, 31]]\n",
      "KNN accuracy : 1.0\n",
      "KNN ConfusionMatrix:\n",
      "[[40,  0,  0, ...,  0,  0,  0],\n",
      " [ 0, 43,  0, ...,  0,  0,  0],\n",
      " [ 0,  0, 28, ...,  0,  0,  0],\n",
      " ...,\n",
      " [ 0,  0,  0, ..., 34,  0,  0],\n",
      " [ 0,  0,  0, ...,  0, 41,  0],\n",
      " [ 0,  0,  0, ...,  0,  0, 31]]\n",
      "MultinomialNB accuracy : 1.0\n",
      "MultinomialNB ConfusionMatrix:\n",
      "[[40,  0,  0, ...,  0,  0,  0],\n",
      " [ 0, 43,  0, ...,  0,  0,  0],\n",
      " [ 0,  0, 28, ...,  0,  0,  0],\n",
      " ...,\n",
      " [ 0,  0,  0, ..., 34,  0,  0],\n",
      " [ 0,  0,  0, ...,  0, 41,  0],\n",
      " [ 0,  0,  0, ...,  0,  0, 31]]\n"
     ]
    }
   ],
   "source": [
    "from sklearn.datasets import make_classification\n",
    "from sklearn.svm import SVC\n",
    "from sklearn.ensemble import RandomForestClassifier,GradientBoostingClassifier\n",
    "from sklearn.neighbors import KNeighborsClassifier\n",
    "from sklearn.naive_bayes import MultinomialNB\n",
    "\n",
    "from sklearn.metrics import accuracy_score,confusion_matrix\n",
    "import numpy as np\n",
    "\n",
    "\n",
    "models={\n",
    "    \"SVC\": SVC(kernel='linear'),\n",
    "    \"RandomForest\": RandomForestClassifier(n_estimators=100,random_state=42),\n",
    "    \"GradientBoosting\":GradientBoostingClassifier(n_estimators=100,random_state=42),\n",
    "    \"KNN\": KNeighborsClassifier(n_neighbors=5),\n",
    "    \"MultinomialNB\":MultinomialNB()\n",
    "}\n",
    "\n",
    "for model_name,model in models.items():\n",
    "    model.fit(x_train,y_train)\n",
    "\n",
    "    predictions=model.predict(x_test)\n",
    "\n",
    "    accuracy=accuracy_score(y_test,predictions)\n",
    "\n",
    "    confusionMatrix=confusion_matrix(y_test,predictions)\n",
    "\n",
    "    print(f\"{model_name} accuracy : {accuracy}\")\n",
    "    print(f\"{model_name} ConfusionMatrix:\")\n",
    "    print(np.array2string(confusionMatrix,separator=', '))\n",
    "    "
   ]
  },
  {
   "cell_type": "markdown",
   "id": "b838a65a-b197-45f8-a6d4-8c40596c31ec",
   "metadata": {},
   "source": [
    "## Single Prediction"
   ]
  },
  {
   "cell_type": "code",
   "execution_count": 17,
   "id": "94467d2d-44bc-434c-8355-29da367932d2",
   "metadata": {},
   "outputs": [
    {
     "data": {
      "text/plain": [
       "1.0"
      ]
     },
     "execution_count": 17,
     "metadata": {},
     "output_type": "execute_result"
    }
   ],
   "source": [
    "svc=SVC(kernel=\"linear\")\n",
    "svc.fit(x_train,y_train)\n",
    "ypred=svc.predict(x_test)\n",
    "accuracy_score(y_test,ypred)"
   ]
  },
  {
   "cell_type": "code",
   "execution_count": 18,
   "id": "344bfadf-937d-4405-9693-e1d8a2d07733",
   "metadata": {},
   "outputs": [],
   "source": [
    "import pickle\n",
    "pickle.dump(svc,open(\"models/svc.pkl\",\"wb\"))"
   ]
  },
  {
   "cell_type": "code",
   "execution_count": 19,
   "id": "6042c52d-5310-461a-9adc-b69c70fb557d",
   "metadata": {},
   "outputs": [],
   "source": [
    "svc=pickle.load(open(\"models/svc.pkl\",\"rb\"))"
   ]
  },
  {
   "cell_type": "code",
   "execution_count": 20,
   "id": "cb9ba867-3209-4d24-95ef-7f1f4d9ca1ab",
   "metadata": {
    "scrolled": true
   },
   "outputs": [
    {
     "name": "stdout",
     "output_type": "stream",
     "text": [
      "predicted model:  [40]\n",
      "Actual Label: 40\n"
     ]
    },
    {
     "name": "stderr",
     "output_type": "stream",
     "text": [
      "C:\\Users\\ASUS\\AppData\\Roaming\\Python\\Python312\\site-packages\\sklearn\\utils\\validation.py:2739: UserWarning: X does not have valid feature names, but SVC was fitted with feature names\n",
      "  warnings.warn(\n"
     ]
    }
   ],
   "source": [
    "print(\"predicted model: \",svc.predict(x_test.iloc[0].values.reshape(1,-1)))\n",
    "print(\"Actual Label:\",y_test[0])"
   ]
  },
  {
   "cell_type": "code",
   "execution_count": 21,
   "id": "e35bfe9f-02ce-4539-adc8-12ce454104ca",
   "metadata": {},
   "outputs": [
    {
     "name": "stdout",
     "output_type": "stream",
     "text": [
      "predicted model:  [20]\n",
      "Actual Label: 20\n"
     ]
    },
    {
     "name": "stderr",
     "output_type": "stream",
     "text": [
      "C:\\Users\\ASUS\\AppData\\Roaming\\Python\\Python312\\site-packages\\sklearn\\utils\\validation.py:2739: UserWarning: X does not have valid feature names, but SVC was fitted with feature names\n",
      "  warnings.warn(\n"
     ]
    }
   ],
   "source": [
    "print(\"predicted model: \",svc.predict(x_test.iloc[10].values.reshape(1,-1)))\n",
    "print(\"Actual Label:\",y_test[10])"
   ]
  },
  {
   "cell_type": "code",
   "execution_count": 22,
   "id": "f4c74c65-8200-4e38-ae7f-730f226f234e",
   "metadata": {},
   "outputs": [
    {
     "name": "stdout",
     "output_type": "stream",
     "text": [
      "predicted model:  [10]\n",
      "Actual Label: 10\n"
     ]
    },
    {
     "name": "stderr",
     "output_type": "stream",
     "text": [
      "C:\\Users\\ASUS\\AppData\\Roaming\\Python\\Python312\\site-packages\\sklearn\\utils\\validation.py:2739: UserWarning: X does not have valid feature names, but SVC was fitted with feature names\n",
      "  warnings.warn(\n"
     ]
    }
   ],
   "source": [
    "print(\"predicted model: \",svc.predict(x_test.iloc[20].values.reshape(1,-1)))\n",
    "print(\"Actual Label:\",y_test[20])"
   ]
  },
  {
   "cell_type": "markdown",
   "id": "21ddb8c5-c115-4f7f-a46b-7f0c82ccafaa",
   "metadata": {},
   "source": [
    "### Recommendation system Prediction"
   ]
  },
  {
   "cell_type": "markdown",
   "id": "7cab39c2-ee3c-4a0d-891c-5dee19e9b4c2",
   "metadata": {},
   "source": [
    "## Load database and use logic for recommendations"
   ]
  },
  {
   "cell_type": "code",
   "execution_count": 46,
   "id": "92b35925-a72b-45a3-a897-ea63f9e30086",
   "metadata": {},
   "outputs": [],
   "source": [
    "# symptoms=pd.read_csv('data/symtoms_df.csv')\n",
    "precautions=pd.read_csv('data/precautions_df.csv')\n",
    "workout=pd.read_csv('data/workout_df.csv')\n",
    "description=pd.read_csv('data/description.csv')\n",
    "medications=pd.read_csv('data/medications.csv')\n",
    "diets=pd.read_csv('data/diets.csv')"
   ]
  },
  {
   "cell_type": "code",
   "execution_count": 24,
   "id": "74b77a84-3b57-4ee2-af88-083023b09e64",
   "metadata": {
    "scrolled": true
   },
   "outputs": [
    {
     "data": {
      "text/plain": [
       "array(['(vertigo) Paroymsal  Positional Vertigo', 'AIDS', 'Acne',\n",
       "       'Alcoholic hepatitis', 'Allergy', 'Arthritis', 'Bronchial Asthma',\n",
       "       'Cervical spondylosis', 'Chicken pox', 'Chronic cholestasis',\n",
       "       'Common Cold', 'Dengue', 'Diabetes ',\n",
       "       'Dimorphic hemmorhoids(piles)', 'Drug Reaction',\n",
       "       'Fungal infection', 'GERD', 'Gastroenteritis', 'Heart attack',\n",
       "       'Hepatitis B', 'Hepatitis C', 'Hepatitis D', 'Hepatitis E',\n",
       "       'Hypertension ', 'Hyperthyroidism', 'Hypoglycemia',\n",
       "       'Hypothyroidism', 'Impetigo', 'Jaundice', 'Malaria', 'Migraine',\n",
       "       'Osteoarthristis', 'Paralysis (brain hemorrhage)',\n",
       "       'Peptic ulcer diseae', 'Pneumonia', 'Psoriasis', 'Tuberculosis',\n",
       "       'Typhoid', 'Urinary tract infection', 'Varicose veins',\n",
       "       'hepatitis A'], dtype=object)"
      ]
     },
     "execution_count": 24,
     "metadata": {},
     "output_type": "execute_result"
    }
   ],
   "source": [
    "label_encoder.classes_"
   ]
  },
  {
   "cell_type": "code",
   "execution_count": 25,
   "id": "122878ed-3547-4c8a-88a3-9508cfdba4ba",
   "metadata": {},
   "outputs": [],
   "source": [
    "zipped = zip(label_encoder.classes_, range(len(label_encoder.classes_)))"
   ]
  },
  {
   "cell_type": "code",
   "execution_count": 26,
   "id": "92251759-bee2-4c0e-b1ef-ce14a80466af",
   "metadata": {},
   "outputs": [],
   "source": [
    "disease_dict = {label: idx for label, idx in zipped}\n"
   ]
  },
  {
   "cell_type": "code",
   "execution_count": 27,
   "id": "07f85875-310b-42e1-a207-ddfb7e3adee6",
   "metadata": {
    "scrolled": true
   },
   "outputs": [
    {
     "data": {
      "text/plain": [
       "{0: '(vertigo) Paroymsal  Positional Vertigo',\n",
       " 1: 'AIDS',\n",
       " 2: 'Acne',\n",
       " 3: 'Alcoholic hepatitis',\n",
       " 4: 'Allergy',\n",
       " 5: 'Arthritis',\n",
       " 6: 'Bronchial Asthma',\n",
       " 7: 'Cervical spondylosis',\n",
       " 8: 'Chicken pox',\n",
       " 9: 'Chronic cholestasis',\n",
       " 10: 'Common Cold',\n",
       " 11: 'Dengue',\n",
       " 12: 'Diabetes ',\n",
       " 13: 'Dimorphic hemmorhoids(piles)',\n",
       " 14: 'Drug Reaction',\n",
       " 15: 'Fungal infection',\n",
       " 16: 'GERD',\n",
       " 17: 'Gastroenteritis',\n",
       " 18: 'Heart attack',\n",
       " 19: 'Hepatitis B',\n",
       " 20: 'Hepatitis C',\n",
       " 21: 'Hepatitis D',\n",
       " 22: 'Hepatitis E',\n",
       " 23: 'Hypertension ',\n",
       " 24: 'Hyperthyroidism',\n",
       " 25: 'Hypoglycemia',\n",
       " 26: 'Hypothyroidism',\n",
       " 27: 'Impetigo',\n",
       " 28: 'Jaundice',\n",
       " 29: 'Malaria',\n",
       " 30: 'Migraine',\n",
       " 31: 'Osteoarthristis',\n",
       " 32: 'Paralysis (brain hemorrhage)',\n",
       " 33: 'Peptic ulcer diseae',\n",
       " 34: 'Pneumonia',\n",
       " 35: 'Psoriasis',\n",
       " 36: 'Tuberculosis',\n",
       " 37: 'Typhoid',\n",
       " 38: 'Urinary tract infection',\n",
       " 39: 'Varicose veins',\n",
       " 40: 'hepatitis A'}"
      ]
     },
     "execution_count": 27,
     "metadata": {},
     "output_type": "execute_result"
    }
   ],
   "source": [
    "reversed_disease_dict = {v: k for k, v in disease_dict.items()}\n",
    "reversed_disease_dict"
   ]
  },
  {
   "cell_type": "code",
   "execution_count": 28,
   "id": "698f903b-fbb7-46cd-b6d7-f567d6af8a0d",
   "metadata": {
    "scrolled": true
   },
   "outputs": [
    {
     "data": {
      "text/plain": [
       "{'itching': 0,\n",
       " 'skin_rash': 1,\n",
       " 'nodal_skin_eruptions': 2,\n",
       " 'continuous_sneezing': 3,\n",
       " 'shivering': 4,\n",
       " 'chills': 5,\n",
       " 'joint_pain': 6,\n",
       " 'stomach_pain': 7,\n",
       " 'acidity': 8,\n",
       " 'ulcers_on_tongue': 9,\n",
       " 'muscle_wasting': 10,\n",
       " 'vomiting': 11,\n",
       " 'burning_micturition': 12,\n",
       " 'spotting_ urination': 13,\n",
       " 'fatigue': 14,\n",
       " 'weight_gain': 15,\n",
       " 'anxiety': 16,\n",
       " 'cold_hands_and_feets': 17,\n",
       " 'mood_swings': 18,\n",
       " 'weight_loss': 19,\n",
       " 'restlessness': 20,\n",
       " 'lethargy': 21,\n",
       " 'patches_in_throat': 22,\n",
       " 'irregular_sugar_level': 23,\n",
       " 'cough': 24,\n",
       " 'high_fever': 25,\n",
       " 'sunken_eyes': 26,\n",
       " 'breathlessness': 27,\n",
       " 'sweating': 28,\n",
       " 'dehydration': 29,\n",
       " 'indigestion': 30,\n",
       " 'headache': 31,\n",
       " 'yellowish_skin': 32,\n",
       " 'dark_urine': 33,\n",
       " 'nausea': 34,\n",
       " 'loss_of_appetite': 35,\n",
       " 'pain_behind_the_eyes': 36,\n",
       " 'back_pain': 37,\n",
       " 'constipation': 38,\n",
       " 'abdominal_pain': 39,\n",
       " 'diarrhoea': 40,\n",
       " 'mild_fever': 41,\n",
       " 'yellow_urine': 42,\n",
       " 'yellowing_of_eyes': 43,\n",
       " 'acute_liver_failure': 44,\n",
       " 'fluid_overload': 45,\n",
       " 'swelling_of_stomach': 46,\n",
       " 'swelled_lymph_nodes': 47,\n",
       " 'malaise': 48,\n",
       " 'blurred_and_distorted_vision': 49,\n",
       " 'phlegm': 50,\n",
       " 'throat_irritation': 51,\n",
       " 'redness_of_eyes': 52,\n",
       " 'sinus_pressure': 53,\n",
       " 'runny_nose': 54,\n",
       " 'congestion': 55,\n",
       " 'chest_pain': 56,\n",
       " 'weakness_in_limbs': 57,\n",
       " 'fast_heart_rate': 58,\n",
       " 'pain_during_bowel_movements': 59,\n",
       " 'pain_in_anal_region': 60,\n",
       " 'bloody_stool': 61,\n",
       " 'irritation_in_anus': 62,\n",
       " 'neck_pain': 63,\n",
       " 'dizziness': 64,\n",
       " 'cramps': 65,\n",
       " 'bruising': 66,\n",
       " 'obesity': 67,\n",
       " 'swollen_legs': 68,\n",
       " 'swollen_blood_vessels': 69,\n",
       " 'puffy_face_and_eyes': 70,\n",
       " 'enlarged_thyroid': 71,\n",
       " 'brittle_nails': 72,\n",
       " 'swollen_extremeties': 73,\n",
       " 'excessive_hunger': 74,\n",
       " 'extra_marital_contacts': 75,\n",
       " 'drying_and_tingling_lips': 76,\n",
       " 'slurred_speech': 77,\n",
       " 'knee_pain': 78,\n",
       " 'hip_joint_pain': 79,\n",
       " 'muscle_weakness': 80,\n",
       " 'stiff_neck': 81,\n",
       " 'swelling_joints': 82,\n",
       " 'movement_stiffness': 83,\n",
       " 'spinning_movements': 84,\n",
       " 'loss_of_balance': 85,\n",
       " 'unsteadiness': 86,\n",
       " 'weakness_of_one_body_side': 87,\n",
       " 'loss_of_smell': 88,\n",
       " 'bladder_discomfort': 89,\n",
       " 'foul_smell_of urine': 90,\n",
       " 'continuous_feel_of_urine': 91,\n",
       " 'passage_of_gases': 92,\n",
       " 'internal_itching': 93,\n",
       " 'toxic_look_(typhos)': 94,\n",
       " 'depression': 95,\n",
       " 'irritability': 96,\n",
       " 'muscle_pain': 97,\n",
       " 'altered_sensorium': 98,\n",
       " 'red_spots_over_body': 99,\n",
       " 'belly_pain': 100,\n",
       " 'abnormal_menstruation': 101,\n",
       " 'dischromic _patches': 102,\n",
       " 'watering_from_eyes': 103,\n",
       " 'increased_appetite': 104,\n",
       " 'polyuria': 105,\n",
       " 'family_history': 106,\n",
       " 'mucoid_sputum': 107,\n",
       " 'rusty_sputum': 108,\n",
       " 'lack_of_concentration': 109,\n",
       " 'visual_disturbances': 110,\n",
       " 'receiving_blood_transfusion': 111,\n",
       " 'receiving_unsterile_injections': 112,\n",
       " 'coma': 113,\n",
       " 'stomach_bleeding': 114,\n",
       " 'distention_of_abdomen': 115,\n",
       " 'history_of_alcohol_consumption': 116,\n",
       " 'fluid_overload.1': 117,\n",
       " 'blood_in_sputum': 118,\n",
       " 'prominent_veins_on_calf': 119,\n",
       " 'palpitations': 120,\n",
       " 'painful_walking': 121,\n",
       " 'pus_filled_pimples': 122,\n",
       " 'blackheads': 123,\n",
       " 'scurring': 124,\n",
       " 'skin_peeling': 125,\n",
       " 'silver_like_dusting': 126,\n",
       " 'small_dents_in_nails': 127,\n",
       " 'inflammatory_nails': 128,\n",
       " 'blister': 129,\n",
       " 'red_sore_around_nose': 130,\n",
       " 'yellow_crust_ooze': 131}"
      ]
     },
     "execution_count": 28,
     "metadata": {},
     "output_type": "execute_result"
    }
   ],
   "source": [
    "symptoms_dict = {col: idx for idx, col in enumerate(train_dataset.columns[:-1])}\n",
    "symptoms_dict"
   ]
  },
  {
   "cell_type": "code",
   "execution_count": 47,
   "id": "cc48f55b-44b2-420a-982b-8ecb9df1f9f7",
   "metadata": {},
   "outputs": [],
   "source": [
    "def getEverything(user_desease):\n",
    "    descript=description[description['Disease']==pred_disease]['Description']\n",
    "    descript=\" \".join([d for d in descript])\n",
    "\n",
    "    precut=precautions[precautions['Disease']==pred_disease][['Precaution_1','Precaution_2','Precaution_3','Precaution_4']]\n",
    "    precut=[col for col in precut.values]\n",
    "\n",
    "    med = medications[medications['Disease'] == pred_disease]['Medication']\n",
    "    med = [med for med in med.values]\n",
    "\n",
    "    die = diets[diets['Disease'] == pred_disease]['Diet']\n",
    "    die = [die for die in die.values]\n",
    "\n",
    "    wrkout = workout[workout['disease'] == pred_disease] ['workout']\n",
    "\n",
    "    return descript,precut,med,die,wrkout"
   ]
  },
  {
   "cell_type": "code",
   "execution_count": 48,
   "id": "50cb0560-94b2-4989-b94c-277df5299eda",
   "metadata": {},
   "outputs": [],
   "source": [
    "def get_predected_diseases(patient_symptoms):\n",
    "    input_vector=np.zeros(len(symptoms_dict))\n",
    "    for item in patient_symptoms:\n",
    "        input_vector[symptoms_dict[item]]=1\n",
    "    return reversed_disease_dict[svc.predict([input_vector])[0]]"
   ]
  },
  {
   "cell_type": "code",
   "execution_count": 42,
   "id": "2f74afac-8677-43c0-8144-1eac03e3c095",
   "metadata": {},
   "outputs": [
    {
     "name": "stdin",
     "output_type": "stream",
     "text": [
      "enter ur symptoms:  high_fever,cough,headache,fatigue\n"
     ]
    }
   ],
   "source": [
    "symp=input(\"enter ur symptoms: \")\n",
    "user_sym=[s for s in symp.split(',')]"
   ]
  },
  {
   "cell_type": "code",
   "execution_count": 43,
   "id": "b2e46194-c6fa-49fd-94cd-eb88cab6a809",
   "metadata": {},
   "outputs": [
    {
     "name": "stderr",
     "output_type": "stream",
     "text": [
      "C:\\Users\\ASUS\\AppData\\Roaming\\Python\\Python312\\site-packages\\sklearn\\utils\\validation.py:2739: UserWarning: X does not have valid feature names, but SVC was fitted with feature names\n",
      "  warnings.warn(\n"
     ]
    }
   ],
   "source": [
    "pred_disease=get_predected_diseases(user_sym)"
   ]
  },
  {
   "cell_type": "code",
   "execution_count": 44,
   "id": "08138b43-e957-44e9-b4b6-c9c795cf8903",
   "metadata": {},
   "outputs": [
    {
     "data": {
      "text/plain": [
       "'Bronchial Asthma'"
      ]
     },
     "execution_count": 44,
     "metadata": {},
     "output_type": "execute_result"
    }
   ],
   "source": [
    "pred_disease"
   ]
  },
  {
   "cell_type": "code",
   "execution_count": 51,
   "id": "e0790432-4278-4dbe-a7a9-88c4d28062f9",
   "metadata": {},
   "outputs": [],
   "source": [
    "descript,precut,med,die,wrkout=getEverything(pred_disease)"
   ]
  },
  {
   "cell_type": "code",
   "execution_count": 52,
   "id": "0954356a-341f-477b-91ee-afd752c66092",
   "metadata": {},
   "outputs": [
    {
     "data": {
      "text/plain": [
       "'Bronchial Asthma is a respiratory condition characterized by inflammation of the airways.'"
      ]
     },
     "execution_count": 52,
     "metadata": {},
     "output_type": "execute_result"
    }
   ],
   "source": [
    "descript"
   ]
  },
  {
   "cell_type": "code",
   "execution_count": 53,
   "id": "ea5080ca-e46d-42c9-8f2b-64a6436dc2df",
   "metadata": {
    "scrolled": true
   },
   "outputs": [
    {
     "name": "stdout",
     "output_type": "stream",
     "text": [
      "1  :  switch to loose cloothing\n",
      "2  :  take deep breaths\n",
      "3  :  get away from trigger\n",
      "4  :  seek help\n"
     ]
    }
   ],
   "source": [
    "count=1\n",
    "for i in precut[0]:\n",
    "    print(count,\" : \", i)\n",
    "    count+=1"
   ]
  },
  {
   "cell_type": "code",
   "execution_count": 54,
   "id": "cce95fa7-0e49-41be-b883-a2f9f70f2906",
   "metadata": {},
   "outputs": [
    {
     "name": "stdout",
     "output_type": "stream",
     "text": [
      "1  :  ['Bronchodilators', 'Inhaled corticosteroids', 'Leukotriene modifiers', 'Mast cell stabilizers', 'Anticholinergics']\n"
     ]
    }
   ],
   "source": [
    "count=1\n",
    "for i in med:\n",
    "    print(count,\" : \", i)\n",
    "    count+=1"
   ]
  },
  {
   "cell_type": "code",
   "execution_count": 55,
   "id": "f41c5480-4ad7-4d63-af01-ea51331d9938",
   "metadata": {
    "scrolled": true
   },
   "outputs": [
    {
     "name": "stdout",
     "output_type": "stream",
     "text": [
      "1  :  Include anti-inflammatory foods\n",
      "2  :  Consume omega-3 fatty acids\n",
      "3  :  Limit sodium intake\n",
      "4  :  Stay hydrated\n",
      "5  :  Include antioxidant-rich foods\n",
      "6  :  Avoid sulfite-containing foods\n",
      "7  :  Limit processed foods\n",
      "8  :  Consume magnesium-rich foods\n",
      "9  :  Consult a healthcare professional\n",
      "10  :  Avoid trigger foods\n"
     ]
    }
   ],
   "source": [
    "count=1\n",
    "for i in wrkout:\n",
    "    print(count,\" : \", i)\n",
    "    count+=1"
   ]
  },
  {
   "cell_type": "code",
   "execution_count": 56,
   "id": "be2947c5-a01f-461b-be5f-d0d2d2d66662",
   "metadata": {},
   "outputs": [
    {
     "name": "stdout",
     "output_type": "stream",
     "text": [
      "1  :  ['Anti-Inflammatory Diet', 'Omega-3-rich foods', 'Fruits and vegetables', 'Whole grains', 'Lean proteins']\n"
     ]
    }
   ],
   "source": [
    "count=1\n",
    "for i in die:\n",
    "    print(count,\" : \", i)\n",
    "    count+=1"
   ]
  },
  {
   "cell_type": "code",
   "execution_count": 57,
   "id": "9f172f7c-1a7c-47d8-aff0-a8f5eb55684e",
   "metadata": {},
   "outputs": [
    {
     "data": {
      "text/plain": [
       "'1.6.0'"
      ]
     },
     "execution_count": 57,
     "metadata": {},
     "output_type": "execute_result"
    }
   ],
   "source": [
    "import sklearn\n",
    "sklearn.__version__"
   ]
  },
  {
   "cell_type": "code",
   "execution_count": null,
   "id": "c72a5c50-a78a-4e9c-8d0a-223f73a5c4f3",
   "metadata": {},
   "outputs": [],
   "source": []
  }
 ],
 "metadata": {
  "kernelspec": {
   "display_name": "Python 3 (ipykernel)",
   "language": "python",
   "name": "python3"
  },
  "language_info": {
   "codemirror_mode": {
    "name": "ipython",
    "version": 3
   },
   "file_extension": ".py",
   "mimetype": "text/x-python",
   "name": "python",
   "nbconvert_exporter": "python",
   "pygments_lexer": "ipython3",
   "version": "3.12.7"
  }
 },
 "nbformat": 4,
 "nbformat_minor": 5
}
