{
 "cells": [
  {
   "cell_type": "markdown",
   "id": "7d061183-8407-49f6-9118-0efa0d92745d",
   "metadata": {},
   "source": [
    "# Importing necessary libraries"
   ]
  },
  {
   "cell_type": "code",
   "execution_count": 1,
   "id": "8696ceed-bf7d-40bb-91cd-43d0d50d77f9",
   "metadata": {},
   "outputs": [],
   "source": [
    "import numpy as np\n",
    "import pandas as pd"
   ]
  },
  {
   "cell_type": "markdown",
   "id": "bb5d876b-9f91-4401-8f91-7cc6b4216d76",
   "metadata": {},
   "source": [
    "# Reading the CSV file containing the medicine details"
   ]
  },
  {
   "cell_type": "code",
   "execution_count": 2,
   "id": "7d5d5584-5a7f-4288-9cbe-28a4129a37aa",
   "metadata": {},
   "outputs": [],
   "source": [
    "medicine=pd.read_csv('./data2/Medicine_Details.csv')"
   ]
  },
  {
   "cell_type": "code",
   "execution_count": 3,
   "id": "998217fb-8858-47cc-a029-8439be62f86a",
   "metadata": {},
   "outputs": [
    {
     "data": {
      "text/html": [
       "<div>\n",
       "<style scoped>\n",
       "    .dataframe tbody tr th:only-of-type {\n",
       "        vertical-align: middle;\n",
       "    }\n",
       "\n",
       "    .dataframe tbody tr th {\n",
       "        vertical-align: top;\n",
       "    }\n",
       "\n",
       "    .dataframe thead th {\n",
       "        text-align: right;\n",
       "    }\n",
       "</style>\n",
       "<table border=\"1\" class=\"dataframe\">\n",
       "  <thead>\n",
       "    <tr style=\"text-align: right;\">\n",
       "      <th></th>\n",
       "      <th>Medicine Name</th>\n",
       "      <th>Composition</th>\n",
       "      <th>Uses</th>\n",
       "      <th>Side_effects</th>\n",
       "      <th>Image URL</th>\n",
       "      <th>Manufacturer</th>\n",
       "      <th>Excellent Review %</th>\n",
       "      <th>Average Review %</th>\n",
       "      <th>Poor Review %</th>\n",
       "    </tr>\n",
       "  </thead>\n",
       "  <tbody>\n",
       "    <tr>\n",
       "      <th>0</th>\n",
       "      <td>Avastin 400mg Injection</td>\n",
       "      <td>Bevacizumab (400mg)</td>\n",
       "      <td>Cancer of colon and rectum Non-small cell lun...</td>\n",
       "      <td>Rectal bleeding Taste change Headache Noseblee...</td>\n",
       "      <td>https://onemg.gumlet.io/l_watermark_346,w_480,...</td>\n",
       "      <td>Roche Products India Pvt Ltd</td>\n",
       "      <td>22</td>\n",
       "      <td>56</td>\n",
       "      <td>22</td>\n",
       "    </tr>\n",
       "    <tr>\n",
       "      <th>1</th>\n",
       "      <td>Augmentin 625 Duo Tablet</td>\n",
       "      <td>Amoxycillin  (500mg) +  Clavulanic Acid (125mg)</td>\n",
       "      <td>Treatment of Bacterial infections</td>\n",
       "      <td>Vomiting Nausea Diarrhea Mucocutaneous candidi...</td>\n",
       "      <td>https://onemg.gumlet.io/l_watermark_346,w_480,...</td>\n",
       "      <td>Glaxo SmithKline Pharmaceuticals Ltd</td>\n",
       "      <td>47</td>\n",
       "      <td>35</td>\n",
       "      <td>18</td>\n",
       "    </tr>\n",
       "    <tr>\n",
       "      <th>2</th>\n",
       "      <td>Azithral 500 Tablet</td>\n",
       "      <td>Azithromycin (500mg)</td>\n",
       "      <td>Treatment of Bacterial infections</td>\n",
       "      <td>Nausea Abdominal pain Diarrhea</td>\n",
       "      <td>https://onemg.gumlet.io/l_watermark_346,w_480,...</td>\n",
       "      <td>Alembic Pharmaceuticals Ltd</td>\n",
       "      <td>39</td>\n",
       "      <td>40</td>\n",
       "      <td>21</td>\n",
       "    </tr>\n",
       "    <tr>\n",
       "      <th>3</th>\n",
       "      <td>Ascoril LS Syrup</td>\n",
       "      <td>Ambroxol (30mg/5ml) + Levosalbutamol (1mg/5ml)...</td>\n",
       "      <td>Treatment of Cough with mucus</td>\n",
       "      <td>Nausea Vomiting Diarrhea Upset stomach Stomach...</td>\n",
       "      <td>https://onemg.gumlet.io/l_watermark_346,w_480,...</td>\n",
       "      <td>Glenmark Pharmaceuticals Ltd</td>\n",
       "      <td>24</td>\n",
       "      <td>41</td>\n",
       "      <td>35</td>\n",
       "    </tr>\n",
       "    <tr>\n",
       "      <th>4</th>\n",
       "      <td>Aciloc 150 Tablet</td>\n",
       "      <td>Ranitidine (150mg)</td>\n",
       "      <td>Treatment of Gastroesophageal reflux disease (...</td>\n",
       "      <td>Headache Diarrhea Gastrointestinal disturbance</td>\n",
       "      <td>https://onemg.gumlet.io/l_watermark_346,w_480,...</td>\n",
       "      <td>Cadila Pharmaceuticals Ltd</td>\n",
       "      <td>34</td>\n",
       "      <td>37</td>\n",
       "      <td>29</td>\n",
       "    </tr>\n",
       "    <tr>\n",
       "      <th>...</th>\n",
       "      <td>...</td>\n",
       "      <td>...</td>\n",
       "      <td>...</td>\n",
       "      <td>...</td>\n",
       "      <td>...</td>\n",
       "      <td>...</td>\n",
       "      <td>...</td>\n",
       "      <td>...</td>\n",
       "      <td>...</td>\n",
       "    </tr>\n",
       "    <tr>\n",
       "      <th>11820</th>\n",
       "      <td>Zilarta-CT 40/6.25 Tablet</td>\n",
       "      <td>Azilsartan medoxomil (40mg) + Chlorthalidone (...</td>\n",
       "      <td>Hypertension (high blood pressure)</td>\n",
       "      <td>Dizziness Tiredness Decreased potassium level ...</td>\n",
       "      <td>https://onemg.gumlet.io/l_watermark_346,w_480,...</td>\n",
       "      <td>Micro Labs Ltd</td>\n",
       "      <td>67</td>\n",
       "      <td>33</td>\n",
       "      <td>0</td>\n",
       "    </tr>\n",
       "    <tr>\n",
       "      <th>11821</th>\n",
       "      <td>Zipcoz Tablet</td>\n",
       "      <td>Chromium Picolinate (100mcg) + D-Chiro Inosito...</td>\n",
       "      <td>Polycystic ovarian syndrome (PCOS)</td>\n",
       "      <td>Rash Nausea Paresthesia tingling or pricking s...</td>\n",
       "      <td>https://onemg.gumlet.io/l_watermark_346,w_480,...</td>\n",
       "      <td>Lifeline Remedies India Pvt Ltd</td>\n",
       "      <td>0</td>\n",
       "      <td>80</td>\n",
       "      <td>20</td>\n",
       "    </tr>\n",
       "    <tr>\n",
       "      <th>11822</th>\n",
       "      <td>Zestasil 100 Tablet</td>\n",
       "      <td>Sildenafil (100mg)</td>\n",
       "      <td>Treatment of Erectile dysfunction</td>\n",
       "      <td>Flushing sense of warmth in the face ears neck...</td>\n",
       "      <td>https://onemg.gumlet.io/l_watermark_346,w_480,...</td>\n",
       "      <td>TBG pharma ltd</td>\n",
       "      <td>25</td>\n",
       "      <td>75</td>\n",
       "      <td>0</td>\n",
       "    </tr>\n",
       "    <tr>\n",
       "      <th>11823</th>\n",
       "      <td>Zedruff Shampoo</td>\n",
       "      <td>Ketoconazole (2% w/v) + Zinc pyrithione (1% w/v)</td>\n",
       "      <td>Treatment of Dandruff</td>\n",
       "      <td>Application site reactions burning irritation ...</td>\n",
       "      <td>https://onemg.gumlet.io/l_watermark_346,w_480,...</td>\n",
       "      <td>Minova Life Sciences Pvt Ltd</td>\n",
       "      <td>0</td>\n",
       "      <td>0</td>\n",
       "      <td>100</td>\n",
       "    </tr>\n",
       "    <tr>\n",
       "      <th>11824</th>\n",
       "      <td>Zedruff Shampoo</td>\n",
       "      <td>Ketoconazole (2% w/v) + Zinc pyrithione (1% w/v)</td>\n",
       "      <td>Treatment of Dandruff</td>\n",
       "      <td>Application site reactions burning irritation ...</td>\n",
       "      <td>https://onemg.gumlet.io/l_watermark_346,w_480,...</td>\n",
       "      <td>Minova Life Sciences Pvt Ltd</td>\n",
       "      <td>0</td>\n",
       "      <td>0</td>\n",
       "      <td>100</td>\n",
       "    </tr>\n",
       "  </tbody>\n",
       "</table>\n",
       "<p>11825 rows × 9 columns</p>\n",
       "</div>"
      ],
      "text/plain": [
       "                   Medicine Name  \\\n",
       "0        Avastin 400mg Injection   \n",
       "1       Augmentin 625 Duo Tablet   \n",
       "2            Azithral 500 Tablet   \n",
       "3               Ascoril LS Syrup   \n",
       "4              Aciloc 150 Tablet   \n",
       "...                          ...   \n",
       "11820  Zilarta-CT 40/6.25 Tablet   \n",
       "11821              Zipcoz Tablet   \n",
       "11822        Zestasil 100 Tablet   \n",
       "11823            Zedruff Shampoo   \n",
       "11824            Zedruff Shampoo   \n",
       "\n",
       "                                             Composition  \\\n",
       "0                                    Bevacizumab (400mg)   \n",
       "1        Amoxycillin  (500mg) +  Clavulanic Acid (125mg)   \n",
       "2                                   Azithromycin (500mg)   \n",
       "3      Ambroxol (30mg/5ml) + Levosalbutamol (1mg/5ml)...   \n",
       "4                                     Ranitidine (150mg)   \n",
       "...                                                  ...   \n",
       "11820  Azilsartan medoxomil (40mg) + Chlorthalidone (...   \n",
       "11821  Chromium Picolinate (100mcg) + D-Chiro Inosito...   \n",
       "11822                                 Sildenafil (100mg)   \n",
       "11823   Ketoconazole (2% w/v) + Zinc pyrithione (1% w/v)   \n",
       "11824   Ketoconazole (2% w/v) + Zinc pyrithione (1% w/v)   \n",
       "\n",
       "                                                    Uses  \\\n",
       "0       Cancer of colon and rectum Non-small cell lun...   \n",
       "1                      Treatment of Bacterial infections   \n",
       "2                      Treatment of Bacterial infections   \n",
       "3                          Treatment of Cough with mucus   \n",
       "4      Treatment of Gastroesophageal reflux disease (...   \n",
       "...                                                  ...   \n",
       "11820                 Hypertension (high blood pressure)   \n",
       "11821                 Polycystic ovarian syndrome (PCOS)   \n",
       "11822                  Treatment of Erectile dysfunction   \n",
       "11823                              Treatment of Dandruff   \n",
       "11824                              Treatment of Dandruff   \n",
       "\n",
       "                                            Side_effects  \\\n",
       "0      Rectal bleeding Taste change Headache Noseblee...   \n",
       "1      Vomiting Nausea Diarrhea Mucocutaneous candidi...   \n",
       "2                         Nausea Abdominal pain Diarrhea   \n",
       "3      Nausea Vomiting Diarrhea Upset stomach Stomach...   \n",
       "4         Headache Diarrhea Gastrointestinal disturbance   \n",
       "...                                                  ...   \n",
       "11820  Dizziness Tiredness Decreased potassium level ...   \n",
       "11821  Rash Nausea Paresthesia tingling or pricking s...   \n",
       "11822  Flushing sense of warmth in the face ears neck...   \n",
       "11823  Application site reactions burning irritation ...   \n",
       "11824  Application site reactions burning irritation ...   \n",
       "\n",
       "                                               Image URL  \\\n",
       "0      https://onemg.gumlet.io/l_watermark_346,w_480,...   \n",
       "1      https://onemg.gumlet.io/l_watermark_346,w_480,...   \n",
       "2      https://onemg.gumlet.io/l_watermark_346,w_480,...   \n",
       "3      https://onemg.gumlet.io/l_watermark_346,w_480,...   \n",
       "4      https://onemg.gumlet.io/l_watermark_346,w_480,...   \n",
       "...                                                  ...   \n",
       "11820  https://onemg.gumlet.io/l_watermark_346,w_480,...   \n",
       "11821  https://onemg.gumlet.io/l_watermark_346,w_480,...   \n",
       "11822  https://onemg.gumlet.io/l_watermark_346,w_480,...   \n",
       "11823  https://onemg.gumlet.io/l_watermark_346,w_480,...   \n",
       "11824  https://onemg.gumlet.io/l_watermark_346,w_480,...   \n",
       "\n",
       "                               Manufacturer  Excellent Review %  \\\n",
       "0              Roche Products India Pvt Ltd                  22   \n",
       "1      Glaxo SmithKline Pharmaceuticals Ltd                  47   \n",
       "2               Alembic Pharmaceuticals Ltd                  39   \n",
       "3              Glenmark Pharmaceuticals Ltd                  24   \n",
       "4                Cadila Pharmaceuticals Ltd                  34   \n",
       "...                                     ...                 ...   \n",
       "11820                        Micro Labs Ltd                  67   \n",
       "11821       Lifeline Remedies India Pvt Ltd                   0   \n",
       "11822                        TBG pharma ltd                  25   \n",
       "11823          Minova Life Sciences Pvt Ltd                   0   \n",
       "11824          Minova Life Sciences Pvt Ltd                   0   \n",
       "\n",
       "       Average Review %  Poor Review %  \n",
       "0                    56             22  \n",
       "1                    35             18  \n",
       "2                    40             21  \n",
       "3                    41             35  \n",
       "4                    37             29  \n",
       "...                 ...            ...  \n",
       "11820                33              0  \n",
       "11821                80             20  \n",
       "11822                75              0  \n",
       "11823                 0            100  \n",
       "11824                 0            100  \n",
       "\n",
       "[11825 rows x 9 columns]"
      ]
     },
     "execution_count": 3,
     "metadata": {},
     "output_type": "execute_result"
    }
   ],
   "source": [
    "medicine"
   ]
  },
  {
   "cell_type": "markdown",
   "id": "b0deceea-6df7-42c6-a77e-4c52f4204a7e",
   "metadata": {},
   "source": [
    "# Checking for any missing values (NaN) in the dataset"
   ]
  },
  {
   "cell_type": "code",
   "execution_count": 4,
   "id": "f6ed9eb2-56b0-48a3-ad4c-3c49c0fce902",
   "metadata": {},
   "outputs": [
    {
     "data": {
      "text/plain": [
       "Medicine Name         0\n",
       "Composition           0\n",
       "Uses                  0\n",
       "Side_effects          0\n",
       "Image URL             0\n",
       "Manufacturer          0\n",
       "Excellent Review %    0\n",
       "Average Review %      0\n",
       "Poor Review %         0\n",
       "dtype: int64"
      ]
     },
     "execution_count": 4,
     "metadata": {},
     "output_type": "execute_result"
    }
   ],
   "source": [
    "medicine.isnull().sum()"
   ]
  },
  {
   "cell_type": "markdown",
   "id": "ce4da6ab-9640-4e0f-87c2-914260df8858",
   "metadata": {},
   "source": [
    "# Checking for duplicated rows in the dataset"
   ]
  },
  {
   "cell_type": "code",
   "execution_count": 5,
   "id": "f33b87da-3d51-40d4-bf76-7422d08314cb",
   "metadata": {},
   "outputs": [
    {
     "data": {
      "text/plain": [
       "84"
      ]
     },
     "execution_count": 5,
     "metadata": {},
     "output_type": "execute_result"
    }
   ],
   "source": [
    "medicine.duplicated().sum()"
   ]
  },
  {
   "cell_type": "markdown",
   "id": "49b62408-6b52-4f65-a73d-b8c0eac80d28",
   "metadata": {},
   "source": [
    "# Removing duplicate rows from the dataset"
   ]
  },
  {
   "cell_type": "code",
   "execution_count": 6,
   "id": "b2c4dbad-7b73-4bbf-ba68-8eb5545f2e1e",
   "metadata": {},
   "outputs": [],
   "source": [
    "medicine=medicine.drop_duplicates()"
   ]
  },
  {
   "cell_type": "markdown",
   "id": "02fd8594-a47a-4ec5-9614-33eb23d3afd2",
   "metadata": {},
   "source": [
    "# Verifying if there are any remaining duplicates after removing them"
   ]
  },
  {
   "cell_type": "code",
   "execution_count": 7,
   "id": "4da536ec-ed1a-4f91-b43f-783bf1b31f43",
   "metadata": {},
   "outputs": [
    {
     "data": {
      "text/plain": [
       "0"
      ]
     },
     "execution_count": 7,
     "metadata": {},
     "output_type": "execute_result"
    }
   ],
   "source": [
    "medicine.duplicated().sum()"
   ]
  },
  {
   "cell_type": "markdown",
   "id": "d5019943-f965-4052-b1cb-989316b4dec0",
   "metadata": {},
   "source": [
    "# Counting unique occurrences in the 'Composition' column"
   ]
  },
  {
   "cell_type": "code",
   "execution_count": 8,
   "id": "fec7b3ee-9dcb-4139-9247-b5cc962ab1c6",
   "metadata": {},
   "outputs": [
    {
     "data": {
      "text/plain": [
       "Composition\n",
       "Luliconazole (1% w/w)                                                                                   98\n",
       "Levocetirizine (5mg) + Montelukast (10mg)                                                               76\n",
       "Ketoconazole (2% w/w)                                                                                   61\n",
       "Domperidone (30mg) + Rabeprazole (20mg)                                                                 59\n",
       "Itraconazole (100mg)                                                                                    53\n",
       "                                                                                                        ..\n",
       "Digoxin (0.25mg)                                                                                         1\n",
       "Sulphacetamide (20% w/v)                                                                                 1\n",
       "Furosemide (10mg/ml)                                                                                     1\n",
       "Chloroquine (500mg)                                                                                      1\n",
       "Chromium Picolinate (100mcg) + D-Chiro Inositol (13.8mg) + Myo-Inositol (550mg) + Vitamin D3 (200IU)     1\n",
       "Name: count, Length: 3358, dtype: int64"
      ]
     },
     "execution_count": 8,
     "metadata": {},
     "output_type": "execute_result"
    }
   ],
   "source": [
    "medicine['Composition'].value_counts()"
   ]
  },
  {
   "cell_type": "markdown",
   "id": "7bf9bc02-5565-4c17-af9c-fa1c2c84def6",
   "metadata": {},
   "source": [
    "# Combining 'Composition' and 'Uses' columns into a new column 'composition_uses' for better analysis"
   ]
  },
  {
   "cell_type": "code",
   "execution_count": 9,
   "id": "c7e28cca-0051-4940-9a44-72b04ab18544",
   "metadata": {},
   "outputs": [
    {
     "name": "stderr",
     "output_type": "stream",
     "text": [
      "C:\\Users\\ASUS\\AppData\\Local\\Temp\\ipykernel_7676\\211418931.py:1: SettingWithCopyWarning: \n",
      "A value is trying to be set on a copy of a slice from a DataFrame.\n",
      "Try using .loc[row_indexer,col_indexer] = value instead\n",
      "\n",
      "See the caveats in the documentation: https://pandas.pydata.org/pandas-docs/stable/user_guide/indexing.html#returning-a-view-versus-a-copy\n",
      "  medicine['composition_uses']=medicine['Composition']+medicine['Uses']\n"
     ]
    }
   ],
   "source": [
    "medicine['composition_uses']=medicine['Composition']+medicine['Uses']"
   ]
  },
  {
   "cell_type": "code",
   "execution_count": 10,
   "id": "189b347b-7538-4046-ab7d-f24fac865857",
   "metadata": {},
   "outputs": [
    {
     "data": {
      "text/html": [
       "<div>\n",
       "<style scoped>\n",
       "    .dataframe tbody tr th:only-of-type {\n",
       "        vertical-align: middle;\n",
       "    }\n",
       "\n",
       "    .dataframe tbody tr th {\n",
       "        vertical-align: top;\n",
       "    }\n",
       "\n",
       "    .dataframe thead th {\n",
       "        text-align: right;\n",
       "    }\n",
       "</style>\n",
       "<table border=\"1\" class=\"dataframe\">\n",
       "  <thead>\n",
       "    <tr style=\"text-align: right;\">\n",
       "      <th></th>\n",
       "      <th>Medicine Name</th>\n",
       "      <th>Composition</th>\n",
       "      <th>Uses</th>\n",
       "      <th>Side_effects</th>\n",
       "      <th>Image URL</th>\n",
       "      <th>Manufacturer</th>\n",
       "      <th>Excellent Review %</th>\n",
       "      <th>Average Review %</th>\n",
       "      <th>Poor Review %</th>\n",
       "      <th>composition_uses</th>\n",
       "    </tr>\n",
       "  </thead>\n",
       "  <tbody>\n",
       "    <tr>\n",
       "      <th>0</th>\n",
       "      <td>Avastin 400mg Injection</td>\n",
       "      <td>Bevacizumab (400mg)</td>\n",
       "      <td>Cancer of colon and rectum Non-small cell lun...</td>\n",
       "      <td>Rectal bleeding Taste change Headache Noseblee...</td>\n",
       "      <td>https://onemg.gumlet.io/l_watermark_346,w_480,...</td>\n",
       "      <td>Roche Products India Pvt Ltd</td>\n",
       "      <td>22</td>\n",
       "      <td>56</td>\n",
       "      <td>22</td>\n",
       "      <td>Bevacizumab (400mg) Cancer of colon and rectum...</td>\n",
       "    </tr>\n",
       "    <tr>\n",
       "      <th>1</th>\n",
       "      <td>Augmentin 625 Duo Tablet</td>\n",
       "      <td>Amoxycillin  (500mg) +  Clavulanic Acid (125mg)</td>\n",
       "      <td>Treatment of Bacterial infections</td>\n",
       "      <td>Vomiting Nausea Diarrhea Mucocutaneous candidi...</td>\n",
       "      <td>https://onemg.gumlet.io/l_watermark_346,w_480,...</td>\n",
       "      <td>Glaxo SmithKline Pharmaceuticals Ltd</td>\n",
       "      <td>47</td>\n",
       "      <td>35</td>\n",
       "      <td>18</td>\n",
       "      <td>Amoxycillin  (500mg) +  Clavulanic Acid (125mg...</td>\n",
       "    </tr>\n",
       "    <tr>\n",
       "      <th>2</th>\n",
       "      <td>Azithral 500 Tablet</td>\n",
       "      <td>Azithromycin (500mg)</td>\n",
       "      <td>Treatment of Bacterial infections</td>\n",
       "      <td>Nausea Abdominal pain Diarrhea</td>\n",
       "      <td>https://onemg.gumlet.io/l_watermark_346,w_480,...</td>\n",
       "      <td>Alembic Pharmaceuticals Ltd</td>\n",
       "      <td>39</td>\n",
       "      <td>40</td>\n",
       "      <td>21</td>\n",
       "      <td>Azithromycin (500mg)Treatment of Bacterial inf...</td>\n",
       "    </tr>\n",
       "    <tr>\n",
       "      <th>3</th>\n",
       "      <td>Ascoril LS Syrup</td>\n",
       "      <td>Ambroxol (30mg/5ml) + Levosalbutamol (1mg/5ml)...</td>\n",
       "      <td>Treatment of Cough with mucus</td>\n",
       "      <td>Nausea Vomiting Diarrhea Upset stomach Stomach...</td>\n",
       "      <td>https://onemg.gumlet.io/l_watermark_346,w_480,...</td>\n",
       "      <td>Glenmark Pharmaceuticals Ltd</td>\n",
       "      <td>24</td>\n",
       "      <td>41</td>\n",
       "      <td>35</td>\n",
       "      <td>Ambroxol (30mg/5ml) + Levosalbutamol (1mg/5ml)...</td>\n",
       "    </tr>\n",
       "    <tr>\n",
       "      <th>4</th>\n",
       "      <td>Aciloc 150 Tablet</td>\n",
       "      <td>Ranitidine (150mg)</td>\n",
       "      <td>Treatment of Gastroesophageal reflux disease (...</td>\n",
       "      <td>Headache Diarrhea Gastrointestinal disturbance</td>\n",
       "      <td>https://onemg.gumlet.io/l_watermark_346,w_480,...</td>\n",
       "      <td>Cadila Pharmaceuticals Ltd</td>\n",
       "      <td>34</td>\n",
       "      <td>37</td>\n",
       "      <td>29</td>\n",
       "      <td>Ranitidine (150mg)Treatment of Gastroesophagea...</td>\n",
       "    </tr>\n",
       "  </tbody>\n",
       "</table>\n",
       "</div>"
      ],
      "text/plain": [
       "              Medicine Name  \\\n",
       "0   Avastin 400mg Injection   \n",
       "1  Augmentin 625 Duo Tablet   \n",
       "2       Azithral 500 Tablet   \n",
       "3          Ascoril LS Syrup   \n",
       "4         Aciloc 150 Tablet   \n",
       "\n",
       "                                         Composition  \\\n",
       "0                                Bevacizumab (400mg)   \n",
       "1    Amoxycillin  (500mg) +  Clavulanic Acid (125mg)   \n",
       "2                               Azithromycin (500mg)   \n",
       "3  Ambroxol (30mg/5ml) + Levosalbutamol (1mg/5ml)...   \n",
       "4                                 Ranitidine (150mg)   \n",
       "\n",
       "                                                Uses  \\\n",
       "0   Cancer of colon and rectum Non-small cell lun...   \n",
       "1                  Treatment of Bacterial infections   \n",
       "2                  Treatment of Bacterial infections   \n",
       "3                      Treatment of Cough with mucus   \n",
       "4  Treatment of Gastroesophageal reflux disease (...   \n",
       "\n",
       "                                        Side_effects  \\\n",
       "0  Rectal bleeding Taste change Headache Noseblee...   \n",
       "1  Vomiting Nausea Diarrhea Mucocutaneous candidi...   \n",
       "2                     Nausea Abdominal pain Diarrhea   \n",
       "3  Nausea Vomiting Diarrhea Upset stomach Stomach...   \n",
       "4     Headache Diarrhea Gastrointestinal disturbance   \n",
       "\n",
       "                                           Image URL  \\\n",
       "0  https://onemg.gumlet.io/l_watermark_346,w_480,...   \n",
       "1  https://onemg.gumlet.io/l_watermark_346,w_480,...   \n",
       "2  https://onemg.gumlet.io/l_watermark_346,w_480,...   \n",
       "3  https://onemg.gumlet.io/l_watermark_346,w_480,...   \n",
       "4  https://onemg.gumlet.io/l_watermark_346,w_480,...   \n",
       "\n",
       "                           Manufacturer  Excellent Review %  Average Review %  \\\n",
       "0          Roche Products India Pvt Ltd                  22                56   \n",
       "1  Glaxo SmithKline Pharmaceuticals Ltd                  47                35   \n",
       "2           Alembic Pharmaceuticals Ltd                  39                40   \n",
       "3          Glenmark Pharmaceuticals Ltd                  24                41   \n",
       "4            Cadila Pharmaceuticals Ltd                  34                37   \n",
       "\n",
       "   Poor Review %                                   composition_uses  \n",
       "0             22  Bevacizumab (400mg) Cancer of colon and rectum...  \n",
       "1             18  Amoxycillin  (500mg) +  Clavulanic Acid (125mg...  \n",
       "2             21  Azithromycin (500mg)Treatment of Bacterial inf...  \n",
       "3             35  Ambroxol (30mg/5ml) + Levosalbutamol (1mg/5ml)...  \n",
       "4             29  Ranitidine (150mg)Treatment of Gastroesophagea...  "
      ]
     },
     "execution_count": 10,
     "metadata": {},
     "output_type": "execute_result"
    }
   ],
   "source": [
    "medicine.head()"
   ]
  },
  {
   "cell_type": "markdown",
   "id": "a96d194b-d951-4958-b2eb-75a699e3c377",
   "metadata": {},
   "source": [
    "# Calculating a new 'Medicine Score Review' based on individual review percentages"
   ]
  },
  {
   "cell_type": "code",
   "execution_count": 11,
   "id": "12a3a456-1d2f-42e1-9d78-1ba3a410ef8c",
   "metadata": {},
   "outputs": [
    {
     "name": "stderr",
     "output_type": "stream",
     "text": [
      "C:\\Users\\ASUS\\AppData\\Local\\Temp\\ipykernel_7676\\4175362212.py:1: SettingWithCopyWarning: \n",
      "A value is trying to be set on a copy of a slice from a DataFrame.\n",
      "Try using .loc[row_indexer,col_indexer] = value instead\n",
      "\n",
      "See the caveats in the documentation: https://pandas.pydata.org/pandas-docs/stable/user_guide/indexing.html#returning-a-view-versus-a-copy\n",
      "  medicine['Medicine Score Review'] = round(\n"
     ]
    }
   ],
   "source": [
    "medicine['Medicine Score Review'] = round(\n",
    "    (medicine['Excellent Review %'] / 100 * 5.0) +  # Excellent review contributes 5 points\n",
    "    (medicine['Average Review %'] / 100 * 3.0) +  # Average review contributes 3 points\n",
    "    (medicine['Poor Review %'] / 100 * 2.0)  # Poor review contributes 2 points\n",
    ")"
   ]
  },
  {
   "cell_type": "code",
   "execution_count": 12,
   "id": "5aa6c2fe-cc36-438f-b76a-8b303b38284e",
   "metadata": {},
   "outputs": [
    {
     "data": {
      "text/plain": [
       "0        3.0\n",
       "1        4.0\n",
       "2        4.0\n",
       "3        3.0\n",
       "4        3.0\n",
       "        ... \n",
       "11819    3.0\n",
       "11820    4.0\n",
       "11821    3.0\n",
       "11822    4.0\n",
       "11823    2.0\n",
       "Name: Medicine Score Review, Length: 11741, dtype: float64"
      ]
     },
     "execution_count": 12,
     "metadata": {},
     "output_type": "execute_result"
    }
   ],
   "source": [
    "medicine['Medicine Score Review']"
   ]
  },
  {
   "cell_type": "markdown",
   "id": "18eaa0a6-d0d2-43c5-871e-b4b8e182852f",
   "metadata": {},
   "source": [
    "# Creating a new DataFrame with selected important columns for the recommendation system"
   ]
  },
  {
   "cell_type": "code",
   "execution_count": 13,
   "id": "7be971a5-b95c-4969-bdf0-94d10a3bc835",
   "metadata": {},
   "outputs": [],
   "source": [
    "new_medicine = medicine[['Medicine Name', 'Uses' ,'Composition', 'composition_uses', 'Manufacturer','Medicine Score Review', 'Image URL']]"
   ]
  },
  {
   "cell_type": "code",
   "execution_count": 14,
   "id": "958e6786-037b-406b-a0c3-9cf90235c65f",
   "metadata": {},
   "outputs": [
    {
     "data": {
      "text/html": [
       "<div>\n",
       "<style scoped>\n",
       "    .dataframe tbody tr th:only-of-type {\n",
       "        vertical-align: middle;\n",
       "    }\n",
       "\n",
       "    .dataframe tbody tr th {\n",
       "        vertical-align: top;\n",
       "    }\n",
       "\n",
       "    .dataframe thead th {\n",
       "        text-align: right;\n",
       "    }\n",
       "</style>\n",
       "<table border=\"1\" class=\"dataframe\">\n",
       "  <thead>\n",
       "    <tr style=\"text-align: right;\">\n",
       "      <th></th>\n",
       "      <th>Medicine Name</th>\n",
       "      <th>Uses</th>\n",
       "      <th>Composition</th>\n",
       "      <th>composition_uses</th>\n",
       "      <th>Manufacturer</th>\n",
       "      <th>Medicine Score Review</th>\n",
       "      <th>Image URL</th>\n",
       "    </tr>\n",
       "  </thead>\n",
       "  <tbody>\n",
       "    <tr>\n",
       "      <th>0</th>\n",
       "      <td>Avastin 400mg Injection</td>\n",
       "      <td>Cancer of colon and rectum Non-small cell lun...</td>\n",
       "      <td>Bevacizumab (400mg)</td>\n",
       "      <td>Bevacizumab (400mg) Cancer of colon and rectum...</td>\n",
       "      <td>Roche Products India Pvt Ltd</td>\n",
       "      <td>3.0</td>\n",
       "      <td>https://onemg.gumlet.io/l_watermark_346,w_480,...</td>\n",
       "    </tr>\n",
       "    <tr>\n",
       "      <th>1</th>\n",
       "      <td>Augmentin 625 Duo Tablet</td>\n",
       "      <td>Treatment of Bacterial infections</td>\n",
       "      <td>Amoxycillin  (500mg) +  Clavulanic Acid (125mg)</td>\n",
       "      <td>Amoxycillin  (500mg) +  Clavulanic Acid (125mg...</td>\n",
       "      <td>Glaxo SmithKline Pharmaceuticals Ltd</td>\n",
       "      <td>4.0</td>\n",
       "      <td>https://onemg.gumlet.io/l_watermark_346,w_480,...</td>\n",
       "    </tr>\n",
       "    <tr>\n",
       "      <th>2</th>\n",
       "      <td>Azithral 500 Tablet</td>\n",
       "      <td>Treatment of Bacterial infections</td>\n",
       "      <td>Azithromycin (500mg)</td>\n",
       "      <td>Azithromycin (500mg)Treatment of Bacterial inf...</td>\n",
       "      <td>Alembic Pharmaceuticals Ltd</td>\n",
       "      <td>4.0</td>\n",
       "      <td>https://onemg.gumlet.io/l_watermark_346,w_480,...</td>\n",
       "    </tr>\n",
       "    <tr>\n",
       "      <th>3</th>\n",
       "      <td>Ascoril LS Syrup</td>\n",
       "      <td>Treatment of Cough with mucus</td>\n",
       "      <td>Ambroxol (30mg/5ml) + Levosalbutamol (1mg/5ml)...</td>\n",
       "      <td>Ambroxol (30mg/5ml) + Levosalbutamol (1mg/5ml)...</td>\n",
       "      <td>Glenmark Pharmaceuticals Ltd</td>\n",
       "      <td>3.0</td>\n",
       "      <td>https://onemg.gumlet.io/l_watermark_346,w_480,...</td>\n",
       "    </tr>\n",
       "    <tr>\n",
       "      <th>4</th>\n",
       "      <td>Aciloc 150 Tablet</td>\n",
       "      <td>Treatment of Gastroesophageal reflux disease (...</td>\n",
       "      <td>Ranitidine (150mg)</td>\n",
       "      <td>Ranitidine (150mg)Treatment of Gastroesophagea...</td>\n",
       "      <td>Cadila Pharmaceuticals Ltd</td>\n",
       "      <td>3.0</td>\n",
       "      <td>https://onemg.gumlet.io/l_watermark_346,w_480,...</td>\n",
       "    </tr>\n",
       "    <tr>\n",
       "      <th>...</th>\n",
       "      <td>...</td>\n",
       "      <td>...</td>\n",
       "      <td>...</td>\n",
       "      <td>...</td>\n",
       "      <td>...</td>\n",
       "      <td>...</td>\n",
       "      <td>...</td>\n",
       "    </tr>\n",
       "    <tr>\n",
       "      <th>11819</th>\n",
       "      <td>Zenegra Lido Spray</td>\n",
       "      <td>Local anesthesia (Numb tissues in a specific ...</td>\n",
       "      <td>Lidocaine (9.5% w/w)</td>\n",
       "      <td>Lidocaine (9.5% w/w) Local anesthesia (Numb ti...</td>\n",
       "      <td>Alkem Laboratories Ltd</td>\n",
       "      <td>3.0</td>\n",
       "      <td>https://onemg.gumlet.io/l_watermark_346,w_480,...</td>\n",
       "    </tr>\n",
       "    <tr>\n",
       "      <th>11820</th>\n",
       "      <td>Zilarta-CT 40/6.25 Tablet</td>\n",
       "      <td>Hypertension (high blood pressure)</td>\n",
       "      <td>Azilsartan medoxomil (40mg) + Chlorthalidone (...</td>\n",
       "      <td>Azilsartan medoxomil (40mg) + Chlorthalidone (...</td>\n",
       "      <td>Micro Labs Ltd</td>\n",
       "      <td>4.0</td>\n",
       "      <td>https://onemg.gumlet.io/l_watermark_346,w_480,...</td>\n",
       "    </tr>\n",
       "    <tr>\n",
       "      <th>11821</th>\n",
       "      <td>Zipcoz Tablet</td>\n",
       "      <td>Polycystic ovarian syndrome (PCOS)</td>\n",
       "      <td>Chromium Picolinate (100mcg) + D-Chiro Inosito...</td>\n",
       "      <td>Chromium Picolinate (100mcg) + D-Chiro Inosito...</td>\n",
       "      <td>Lifeline Remedies India Pvt Ltd</td>\n",
       "      <td>3.0</td>\n",
       "      <td>https://onemg.gumlet.io/l_watermark_346,w_480,...</td>\n",
       "    </tr>\n",
       "    <tr>\n",
       "      <th>11822</th>\n",
       "      <td>Zestasil 100 Tablet</td>\n",
       "      <td>Treatment of Erectile dysfunction</td>\n",
       "      <td>Sildenafil (100mg)</td>\n",
       "      <td>Sildenafil (100mg)Treatment of Erectile dysfun...</td>\n",
       "      <td>TBG pharma ltd</td>\n",
       "      <td>4.0</td>\n",
       "      <td>https://onemg.gumlet.io/l_watermark_346,w_480,...</td>\n",
       "    </tr>\n",
       "    <tr>\n",
       "      <th>11823</th>\n",
       "      <td>Zedruff Shampoo</td>\n",
       "      <td>Treatment of Dandruff</td>\n",
       "      <td>Ketoconazole (2% w/v) + Zinc pyrithione (1% w/v)</td>\n",
       "      <td>Ketoconazole (2% w/v) + Zinc pyrithione (1% w/...</td>\n",
       "      <td>Minova Life Sciences Pvt Ltd</td>\n",
       "      <td>2.0</td>\n",
       "      <td>https://onemg.gumlet.io/l_watermark_346,w_480,...</td>\n",
       "    </tr>\n",
       "  </tbody>\n",
       "</table>\n",
       "<p>11741 rows × 7 columns</p>\n",
       "</div>"
      ],
      "text/plain": [
       "                   Medicine Name  \\\n",
       "0        Avastin 400mg Injection   \n",
       "1       Augmentin 625 Duo Tablet   \n",
       "2            Azithral 500 Tablet   \n",
       "3               Ascoril LS Syrup   \n",
       "4              Aciloc 150 Tablet   \n",
       "...                          ...   \n",
       "11819         Zenegra Lido Spray   \n",
       "11820  Zilarta-CT 40/6.25 Tablet   \n",
       "11821              Zipcoz Tablet   \n",
       "11822        Zestasil 100 Tablet   \n",
       "11823            Zedruff Shampoo   \n",
       "\n",
       "                                                    Uses  \\\n",
       "0       Cancer of colon and rectum Non-small cell lun...   \n",
       "1                      Treatment of Bacterial infections   \n",
       "2                      Treatment of Bacterial infections   \n",
       "3                          Treatment of Cough with mucus   \n",
       "4      Treatment of Gastroesophageal reflux disease (...   \n",
       "...                                                  ...   \n",
       "11819   Local anesthesia (Numb tissues in a specific ...   \n",
       "11820                 Hypertension (high blood pressure)   \n",
       "11821                 Polycystic ovarian syndrome (PCOS)   \n",
       "11822                  Treatment of Erectile dysfunction   \n",
       "11823                              Treatment of Dandruff   \n",
       "\n",
       "                                             Composition  \\\n",
       "0                                    Bevacizumab (400mg)   \n",
       "1        Amoxycillin  (500mg) +  Clavulanic Acid (125mg)   \n",
       "2                                   Azithromycin (500mg)   \n",
       "3      Ambroxol (30mg/5ml) + Levosalbutamol (1mg/5ml)...   \n",
       "4                                     Ranitidine (150mg)   \n",
       "...                                                  ...   \n",
       "11819                               Lidocaine (9.5% w/w)   \n",
       "11820  Azilsartan medoxomil (40mg) + Chlorthalidone (...   \n",
       "11821  Chromium Picolinate (100mcg) + D-Chiro Inosito...   \n",
       "11822                                 Sildenafil (100mg)   \n",
       "11823   Ketoconazole (2% w/v) + Zinc pyrithione (1% w/v)   \n",
       "\n",
       "                                        composition_uses  \\\n",
       "0      Bevacizumab (400mg) Cancer of colon and rectum...   \n",
       "1      Amoxycillin  (500mg) +  Clavulanic Acid (125mg...   \n",
       "2      Azithromycin (500mg)Treatment of Bacterial inf...   \n",
       "3      Ambroxol (30mg/5ml) + Levosalbutamol (1mg/5ml)...   \n",
       "4      Ranitidine (150mg)Treatment of Gastroesophagea...   \n",
       "...                                                  ...   \n",
       "11819  Lidocaine (9.5% w/w) Local anesthesia (Numb ti...   \n",
       "11820  Azilsartan medoxomil (40mg) + Chlorthalidone (...   \n",
       "11821  Chromium Picolinate (100mcg) + D-Chiro Inosito...   \n",
       "11822  Sildenafil (100mg)Treatment of Erectile dysfun...   \n",
       "11823  Ketoconazole (2% w/v) + Zinc pyrithione (1% w/...   \n",
       "\n",
       "                               Manufacturer  Medicine Score Review  \\\n",
       "0              Roche Products India Pvt Ltd                    3.0   \n",
       "1      Glaxo SmithKline Pharmaceuticals Ltd                    4.0   \n",
       "2               Alembic Pharmaceuticals Ltd                    4.0   \n",
       "3              Glenmark Pharmaceuticals Ltd                    3.0   \n",
       "4                Cadila Pharmaceuticals Ltd                    3.0   \n",
       "...                                     ...                    ...   \n",
       "11819                Alkem Laboratories Ltd                    3.0   \n",
       "11820                        Micro Labs Ltd                    4.0   \n",
       "11821       Lifeline Remedies India Pvt Ltd                    3.0   \n",
       "11822                        TBG pharma ltd                    4.0   \n",
       "11823          Minova Life Sciences Pvt Ltd                    2.0   \n",
       "\n",
       "                                               Image URL  \n",
       "0      https://onemg.gumlet.io/l_watermark_346,w_480,...  \n",
       "1      https://onemg.gumlet.io/l_watermark_346,w_480,...  \n",
       "2      https://onemg.gumlet.io/l_watermark_346,w_480,...  \n",
       "3      https://onemg.gumlet.io/l_watermark_346,w_480,...  \n",
       "4      https://onemg.gumlet.io/l_watermark_346,w_480,...  \n",
       "...                                                  ...  \n",
       "11819  https://onemg.gumlet.io/l_watermark_346,w_480,...  \n",
       "11820  https://onemg.gumlet.io/l_watermark_346,w_480,...  \n",
       "11821  https://onemg.gumlet.io/l_watermark_346,w_480,...  \n",
       "11822  https://onemg.gumlet.io/l_watermark_346,w_480,...  \n",
       "11823  https://onemg.gumlet.io/l_watermark_346,w_480,...  \n",
       "\n",
       "[11741 rows x 7 columns]"
      ]
     },
     "execution_count": 14,
     "metadata": {},
     "output_type": "execute_result"
    }
   ],
   "source": [
    "new_medicine"
   ]
  },
  {
   "cell_type": "code",
   "execution_count": 15,
   "id": "87d50c95-b31a-4cfc-93cd-a8d1f789f30c",
   "metadata": {
    "scrolled": true
   },
   "outputs": [
    {
     "data": {
      "text/plain": [
       "'Bevacizumab (400mg) Cancer of colon and rectum Non-small cell lung cancer Kidney cancer Brain tumor Ovarian cancer Cervical cancer'"
      ]
     },
     "execution_count": 15,
     "metadata": {},
     "output_type": "execute_result"
    }
   ],
   "source": [
    "new_medicine['composition_uses'][0]"
   ]
  },
  {
   "cell_type": "markdown",
   "id": "326de27b-9c15-4844-b2ec-9101e4b73634",
   "metadata": {},
   "source": [
    "# Ensuring 'composition_uses' is a string by joining it if it's in list form\n",
    "# This is a fix in case the 'Composition' and 'Uses' columns are lists (or other non-string types)"
   ]
  },
  {
   "cell_type": "code",
   "execution_count": 16,
   "id": "d283835e-8f1e-4135-a0e5-f707c662d889",
   "metadata": {
    "scrolled": true
   },
   "outputs": [
    {
     "name": "stderr",
     "output_type": "stream",
     "text": [
      "C:\\Users\\ASUS\\AppData\\Local\\Temp\\ipykernel_7676\\3382827693.py:1: SettingWithCopyWarning: \n",
      "A value is trying to be set on a copy of a slice from a DataFrame.\n",
      "Try using .loc[row_indexer,col_indexer] = value instead\n",
      "\n",
      "See the caveats in the documentation: https://pandas.pydata.org/pandas-docs/stable/user_guide/indexing.html#returning-a-view-versus-a-copy\n",
      "  new_medicine['composition_uses'] = new_medicine['composition_uses'].apply(lambda x: ''.join(x))\n"
     ]
    }
   ],
   "source": [
    "new_medicine['composition_uses'] = new_medicine['composition_uses'].apply(lambda x: ''.join(x)) "
   ]
  },
  {
   "cell_type": "code",
   "execution_count": 17,
   "id": "8f9063ed-a5a4-4f07-a18c-2147d09e77f9",
   "metadata": {},
   "outputs": [
    {
     "data": {
      "text/plain": [
       "'Bevacizumab (400mg) Cancer of colon and rectum Non-small cell lung cancer Kidney cancer Brain tumor Ovarian cancer Cervical cancer'"
      ]
     },
     "execution_count": 17,
     "metadata": {},
     "output_type": "execute_result"
    }
   ],
   "source": [
    "new_medicine['composition_uses'][0]"
   ]
  },
  {
   "cell_type": "code",
   "execution_count": 18,
   "id": "07821c05-7e42-4733-8cf2-1c49851efce1",
   "metadata": {},
   "outputs": [],
   "source": [
    "import pickle"
   ]
  },
  {
   "cell_type": "code",
   "execution_count": 19,
   "id": "52e0fbd1-7ebb-4d4e-8aa1-5290b6b33114",
   "metadata": {},
   "outputs": [],
   "source": [
    "new_medicine.to_pickle('./models/medicine_model.pkl')"
   ]
  },
  {
   "cell_type": "code",
   "execution_count": 20,
   "id": "90177b9b-614d-48e5-9ca8-90613606556f",
   "metadata": {},
   "outputs": [
    {
     "name": "stdout",
     "output_type": "stream",
     "text": [
      "              Medicine Name  \\\n",
      "0   Avastin 400mg Injection   \n",
      "1  Augmentin 625 Duo Tablet   \n",
      "2       Azithral 500 Tablet   \n",
      "3          Ascoril LS Syrup   \n",
      "4         Aciloc 150 Tablet   \n",
      "\n",
      "                                                Uses  \\\n",
      "0   Cancer of colon and rectum Non-small cell lun...   \n",
      "1                  Treatment of Bacterial infections   \n",
      "2                  Treatment of Bacterial infections   \n",
      "3                      Treatment of Cough with mucus   \n",
      "4  Treatment of Gastroesophageal reflux disease (...   \n",
      "\n",
      "                                         Composition  \\\n",
      "0                                Bevacizumab (400mg)   \n",
      "1    Amoxycillin  (500mg) +  Clavulanic Acid (125mg)   \n",
      "2                               Azithromycin (500mg)   \n",
      "3  Ambroxol (30mg/5ml) + Levosalbutamol (1mg/5ml)...   \n",
      "4                                 Ranitidine (150mg)   \n",
      "\n",
      "                                    composition_uses  \\\n",
      "0  Bevacizumab (400mg) Cancer of colon and rectum...   \n",
      "1  Amoxycillin  (500mg) +  Clavulanic Acid (125mg...   \n",
      "2  Azithromycin (500mg)Treatment of Bacterial inf...   \n",
      "3  Ambroxol (30mg/5ml) + Levosalbutamol (1mg/5ml)...   \n",
      "4  Ranitidine (150mg)Treatment of Gastroesophagea...   \n",
      "\n",
      "                           Manufacturer  Medicine Score Review  \\\n",
      "0          Roche Products India Pvt Ltd                    3.0   \n",
      "1  Glaxo SmithKline Pharmaceuticals Ltd                    4.0   \n",
      "2           Alembic Pharmaceuticals Ltd                    4.0   \n",
      "3          Glenmark Pharmaceuticals Ltd                    3.0   \n",
      "4            Cadila Pharmaceuticals Ltd                    3.0   \n",
      "\n",
      "                                           Image URL  \n",
      "0  https://onemg.gumlet.io/l_watermark_346,w_480,...  \n",
      "1  https://onemg.gumlet.io/l_watermark_346,w_480,...  \n",
      "2  https://onemg.gumlet.io/l_watermark_346,w_480,...  \n",
      "3  https://onemg.gumlet.io/l_watermark_346,w_480,...  \n",
      "4  https://onemg.gumlet.io/l_watermark_346,w_480,...  \n"
     ]
    }
   ],
   "source": [
    "# Load the pickled DataFrame\n",
    "new_medicine_loaded = pd.read_pickle('./models/medicine_model.pkl')\n",
    "\n",
    "# Verify the content\n",
    "print(new_medicine_loaded.head())"
   ]
  },
  {
   "cell_type": "code",
   "execution_count": 21,
   "id": "f7ed5e1c-5625-4d4d-9c93-aa744e59b067",
   "metadata": {},
   "outputs": [],
   "source": [
    "import nltk\n",
    "from nltk.stem.porter import PorterStemmer\n",
    "ps = PorterStemmer()"
   ]
  },
  {
   "cell_type": "code",
   "execution_count": 22,
   "id": "adfbe5ed-a830-45db-b391-20072bbc9bfc",
   "metadata": {},
   "outputs": [],
   "source": [
    "def recommend_medicine(use_query):\n",
    "    recommendations = []\n",
    "    # Lowercase the input query\n",
    "    use_query = [query.lower() for query in use_query] \n",
    "\n",
    "    for i, row in new_medicine_loaded.iterrows():\n",
    "        composition_uses = row['composition_uses'].lower()\n",
    "        if all(query in composition_uses for query in use_query):\n",
    "            recommendations.append([row['Medicine Name'], row['Medicine Score Review'],row['Image URL']])\n",
    "\n",
    "    if recommendations:\n",
    "        sorted_recommendations = sorted(recommendations, key=lambda x: x[1], reverse=True)[:1]\n",
    "        seen = set()\n",
    "        recommended_medicines = [x for x in sorted_recommendations if tuple(x) not in seen and not seen.add(tuple(x))]\n",
    "        return recommended_medicines\n",
    "    else:\n",
    "        return \"No medicines found for this disease.\"\n"
   ]
  },
  {
   "cell_type": "code",
   "execution_count": 23,
   "id": "f1aefe3a-8fb8-4492-a1d2-fae167bf096e",
   "metadata": {},
   "outputs": [
    {
     "data": {
      "text/plain": [
       "[['Aldryl Soft Gelatin Capsule',\n",
       "  4.0,\n",
       "  'https://onemg.gumlet.io/l_watermark_346,w_480,h_480/a_ignore,w_480,h_480,c_fit,q_auto,f_auto/7c12d0a4ffd4441e86b17458a939fed4.jpg']]"
      ]
     },
     "execution_count": 23,
     "metadata": {},
     "output_type": "execute_result"
    }
   ],
   "source": [
    "recommendations = recommend_medicine(['allergy'])\n",
    "recommendations"
   ]
  },
  {
   "cell_type": "code",
   "execution_count": 24,
   "id": "4e766e33-a18d-4ad9-abbb-852201d4b9e6",
   "metadata": {},
   "outputs": [
    {
     "name": "stdout",
     "output_type": "stream",
     "text": [
      "[('Aldryl Soft Gelatin Capsule', 'https://onemg.gumlet.io/l_watermark_346,w_480,h_480/a_ignore,w_480,h_480,c_fit,q_auto,f_auto/7c12d0a4ffd4441e86b17458a939fed4.jpg')]\n"
     ]
    }
   ],
   "source": [
    "if isinstance(recommendations, list):\n",
    "    medicine_name=[(i[0],i[2]) for i in recommendations]\n",
    "    print(medicine_name)\n",
    "else:\n",
    "    print(recommendations)"
   ]
  },
  {
   "cell_type": "code",
   "execution_count": 28,
   "id": "9ba674b4-a402-4f28-8676-dee202375da9",
   "metadata": {},
   "outputs": [],
   "source": [
    "def recommend_medicine(use_query):\n",
    "    # Initialize an empty list to store recommended medicines\n",
    "    recommendations = []\n",
    "    \n",
    "    # Convert all search queries to lowercase for case-insensitive matching\n",
    "    use_query = [query.lower() for query in use_query] \n",
    "\n",
    "    # Iterate over each row in the new_medicine DataFrame\n",
    "    for i, row in new_medicine.iterrows():\n",
    "        # Convert the composition_uses field to lowercase for case-insensitive comparison\n",
    "        composition_uses = row['composition_uses'].lower()\n",
    "        \n",
    "        # Check if all user queries are present in the composition_uses string\n",
    "        if all(query in composition_uses for query in use_query):\n",
    "            # If matched, append relevant data to the recommendations list\n",
    "            recommendations.append([\n",
    "                row['Medicine Name'],\n",
    "                row['Medicine Score Review'],\n",
    "                row['Image URL']\n",
    "            ])\n",
    "\n",
    "    # If there are any recommended medicines\n",
    "    if recommendations:\n",
    "        # Sort them by the score in descending order and take the top one\n",
    "        sorted_recommendations = sorted(recommendations, key=lambda x: x[1], reverse=True)[:1]\n",
    "        \n",
    "        # Remove any duplicates (just in case)\n",
    "        seen = set()\n",
    "        recommended_medicines = [x for x in sorted_recommendations if tuple(x) not in seen and not seen.add(tuple(x))]\n",
    "        \n",
    "        return recommended_medicines\n",
    "    else:\n",
    "        # Return a message if no matches are found\n",
    "        return \"No medicines found for this disease.\"\n"
   ]
  },
  {
   "cell_type": "code",
   "execution_count": 29,
   "id": "f74886ee-c630-4417-9903-8439b1bb0489",
   "metadata": {},
   "outputs": [
    {
     "data": {
      "text/plain": [
       "[['Bevac Adult Vaccine',\n",
       "  5.0,\n",
       "  'https://onemg.gumlet.io/l_watermark_346,w_480,h_480/a_ignore,w_480,h_480,c_fit,q_auto,f_auto/s2fkw3cgzun9lnf0ld6z.jpg']]"
      ]
     },
     "execution_count": 29,
     "metadata": {},
     "output_type": "execute_result"
    }
   ],
   "source": [
    "recommendations = recommend_medicine(['hepatitis b'])\n",
    "recommendations"
   ]
  },
  {
   "cell_type": "code",
   "execution_count": 30,
   "id": "7abce3ec-2ba8-4712-be22-693f48b4b12e",
   "metadata": {},
   "outputs": [
    {
     "name": "stdout",
     "output_type": "stream",
     "text": [
      "[('Bevac Adult Vaccine', 'https://onemg.gumlet.io/l_watermark_346,w_480,h_480/a_ignore,w_480,h_480,c_fit,q_auto,f_auto/s2fkw3cgzun9lnf0ld6z.jpg')]\n"
     ]
    }
   ],
   "source": [
    "if isinstance(recommendations, list):\n",
    "    medicine_name=[(i[0],i[2]) for i in recommendations]\n",
    "    print(medicine_name)\n",
    "else:\n",
    "    print(recommendations)"
   ]
  },
  {
   "cell_type": "code",
   "execution_count": null,
   "id": "67274e17-9cb7-4324-b93f-3fa69ed07520",
   "metadata": {},
   "outputs": [],
   "source": []
  }
 ],
 "metadata": {
  "kernelspec": {
   "display_name": "Python 3 (ipykernel)",
   "language": "python",
   "name": "python3"
  },
  "language_info": {
   "codemirror_mode": {
    "name": "ipython",
    "version": 3
   },
   "file_extension": ".py",
   "mimetype": "text/x-python",
   "name": "python",
   "nbconvert_exporter": "python",
   "pygments_lexer": "ipython3",
   "version": "3.12.7"
  }
 },
 "nbformat": 4,
 "nbformat_minor": 5
}
